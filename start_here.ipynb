{
 "cells": [
  {
   "cell_type": "markdown",
   "metadata": {},
   "source": [
    "# Secure networked applications"
   ],
   "id": "33d67678-1722-47cb-bb34-5c5bd81fe3ef"
  },
  {
   "cell_type": "markdown",
   "metadata": {},
   "source": [
    "In this notebook you will:\n",
    "\n",
    "-   Reserve resources for this experiment\n",
    "-   Configure your reserved resources\n",
    "-   Access your reserved resources over SSH\n",
    "\n",
    "Then you will run the experiment at [Secure networked applications](https://witestlab.poly.edu/blog/secure-networked-applications/).\n",
    "\n",
    "Finally, you will\n",
    "\n",
    "-   Delete the resources to free them for other users"
   ],
   "id": "85c231cd-0bf1-4208-afbd-5cb5c65540ba"
  },
  {
   "cell_type": "markdown",
   "metadata": {},
   "source": [
    "### Configure environment"
   ],
   "id": "d1584866-bf9a-4623-bb2a-a1a125efad2c"
  },
  {
   "cell_type": "code",
   "execution_count": null,
   "metadata": {},
   "outputs": [],
   "source": [
    "import openstack, chi, chi.ssh, chi.network, chi.server, os"
   ],
   "id": "db9fdb49-12b2-4ac2-b9a9-0790445c8844"
  },
  {
   "cell_type": "markdown",
   "metadata": {},
   "source": [
    "In this section, we configure the Chameleon Python client.\n",
    "\n",
    "For this experiment, we’re going to use the KVM@TACC site, which we indicate below.\n",
    "\n",
    "We also need to specify the name of the Chameleon “project” that this experiment is part of. The project name will have the format “CHI-XXXXXX”, where the last part is a 6-digit number, and you can find it on your [user dashboard](https://chameleoncloud.org/user/dashboard/)."
   ],
   "id": "54eff13f-41e9-4e51-83bb-671d9102c012"
  },
  {
   "cell_type": "markdown",
   "metadata": {},
   "source": [
    "In the cell below, replace the project ID with your own project ID, then run the cell."
   ],
   "id": "47a30210-74ff-41be-a83b-94b538d5d5c9"
  },
  {
   "cell_type": "code",
   "execution_count": null,
   "metadata": {},
   "outputs": [],
   "source": [
    "chi.use_site(\"KVM@TACC\")\n",
    "PROJECT_NAME = \"CHI-XXXXXX\"\n",
    "chi.set(\"project_name\", PROJECT_NAME)\n",
    "\n",
    "# configure openstacksdk for actions unsupported by python-chi\n",
    "os_conn = chi.clients.connection()\n"
   ],
   "id": "f179f215-bc0d-4d19-90e3-24d9d38000f2"
  },
  {
   "cell_type": "markdown",
   "metadata": {},
   "source": [
    "### Define configuration for this experiment (two hosts and router in line topology)"
   ],
   "id": "3086456e-76af-43c3-9f94-47d435eb87c6"
  },
  {
   "cell_type": "code",
   "execution_count": null,
   "metadata": {},
   "outputs": [],
   "source": [
    "username = os.getenv('USER')\n",
    "\n",
    "node_conf = [\n",
    " {'name': \"romeo\",   'flavor': 'm1.small', 'image': 'CC-Ubuntu20.04', 'packages': []}, \n",
    " {'name': \"juliet\",  'flavor': 'm1.small', 'image': 'CC-Ubuntu20.04', 'packages': []}, \n",
    " {'name': \"router\",  'flavor': 'm1.small', 'image': 'CC-Ubuntu20.04', 'packages': []}\n",
    "]\n",
    "net_conf = [\n",
    " {\"name\": \"net1\", \"subnet\": \"10.10.1.0/24\", \"nodes\": [{\"name\": \"romeo\",   \"addr\": \"10.10.1.100\"}, {\"name\": \"router\", \"addr\": \"10.10.1.10\"}]},\n",
    " {\"name\": \"net2\", \"subnet\": \"10.10.2.0/24\", \"nodes\": [{\"name\": \"juliet\",  \"addr\": \"10.10.2.100\"}, {\"name\": \"router\", \"addr\": \"10.10.2.10\"}]}\n",
    "]\n",
    "route_conf = [\n",
    " {\"addr\": \"10.10.2.0/24\", \"gw\": \"10.10.1.10\", \"nodes\": [\"romeo\"]}, \n",
    " {\"addr\": \"10.10.1.0/24\", \"gw\": \"10.10.2.10\", \"nodes\": [\"juliet\"]}\n",
    "]"
   ],
   "id": "a3fc738f-5333-4b06-8b67-76c322dbea62"
  },
  {
   "cell_type": "markdown",
   "metadata": {},
   "source": [
    "### Configure resources\n",
    "\n",
    "Now, we will prepare the VMs and network links that our experiment requires."
   ],
   "id": "98435dc5-bbf9-4923-a32b-c392b2e1d9ae"
  },
  {
   "cell_type": "markdown",
   "metadata": {},
   "source": [
    "First, we will prepare a “public” network that we will use for SSH access to our VMs -"
   ],
   "id": "fac20aba-bba7-4d6e-b49a-fa205d98f276"
  },
  {
   "cell_type": "code",
   "execution_count": null,
   "metadata": {},
   "outputs": [],
   "source": [
    "public_net = os_conn.network.create_network(name=\"public_net_\" + username)\n",
    "public_net_id = public_net.get(\"id\")\n",
    "public_subnet = os_conn.network.create_subnet(\n",
    "    name=\"public_subnet_\" + username,\n",
    "    network_id=public_net.get(\"id\"),\n",
    "    ip_version='4',\n",
    "    cidr=\"192.168.10.0/24\",\n",
    "    gateway_ip=\"192.168.10.1\",\n",
    "    is_dhcp_enabled = True\n",
    ")"
   ],
   "id": "422ca241-20b6-4841-bace-68ae0eb0262b"
  },
  {
   "cell_type": "markdown",
   "metadata": {},
   "source": [
    "Next, we will prepare the “experiment” networks -"
   ],
   "id": "b3dc1006-c99b-4cab-b715-2a6cd648ce60"
  },
  {
   "cell_type": "code",
   "execution_count": null,
   "metadata": {},
   "outputs": [],
   "source": [
    "nets = []\n",
    "net_ids = []\n",
    "subnets = []\n",
    "for n in net_conf:\n",
    "    exp_net = os_conn.network.create_network(name=\"exp_\" + n['name']  + '_' + username)\n",
    "    exp_net_id = exp_net.get(\"id\")\n",
    "    os_conn.network.update_network(exp_net, is_port_security_enabled=False)\n",
    "    exp_subnet = os_conn.network.create_subnet(\n",
    "        name=\"exp_subnet_\" + n['name']  + '_' + username,\n",
    "        network_id=exp_net.get(\"id\"),\n",
    "        ip_version='4',\n",
    "        cidr=n['subnet'],\n",
    "        gateway_ip=None,\n",
    "        is_dhcp_enabled = False\n",
    "    )\n",
    "    nets.append(exp_net)\n",
    "    net_ids.append(exp_net_id)\n",
    "    subnets.append(exp_subnet)"
   ],
   "id": "208ed09c-349d-43ac-988f-d346e305b280"
  },
  {
   "cell_type": "markdown",
   "metadata": {},
   "source": [
    "Now we create the VMs -"
   ],
   "id": "65591bb4-6a77-43cc-a7ed-055dd4078ee9"
  },
  {
   "cell_type": "code",
   "execution_count": null,
   "metadata": {},
   "outputs": [],
   "source": [
    "servers = []\n",
    "server_ids = []\n",
    "for i, n in enumerate(node_conf, start=10):\n",
    "    image_uuid = os_conn.image.find_image(n['image']).id\n",
    "    flavor_uuid = os_conn.compute.find_flavor(n['flavor']).id\n",
    "    # find out details of exp interface(s)\n",
    "    nics = [{'net-id': chi.network.get_network_id( \"exp_\" + net['name']  + '_' + username ), 'v4-fixed-ip': node['addr']} for net in net_conf for node in net['nodes'] if node['name']==n['name']]\n",
    "    # also include a public network interface\n",
    "    nics.insert(0, {\"net-id\": public_net_id, \"v4-fixed-ip\":\"192.168.10.\" + str(i)})\n",
    "    server = chi.server.create_server(\n",
    "        server_name=n['name'] + \"_\" + username,\n",
    "        image_id=image_uuid,\n",
    "        flavor_id=flavor_uuid,\n",
    "        nics=nics\n",
    "    )\n",
    "    servers.append(server)\n",
    "    server_ids.append(chi.server.get_server(n['name'] + \"_\" + username).id)"
   ],
   "id": "67c6b06f-70bc-4a3f-bbe6-5c46081e8a62"
  },
  {
   "cell_type": "markdown",
   "metadata": {},
   "source": [
    "We wait for all servers to come up before we proceed -"
   ],
   "id": "ec7137f3-33ed-402d-8c6c-8707202682e7"
  },
  {
   "cell_type": "code",
   "execution_count": null,
   "metadata": {},
   "outputs": [],
   "source": [
    "for server_id in server_ids:\n",
    "    chi.server.wait_for_active(server_id)"
   ],
   "id": "2383858d-d59c-4e00-9f0c-6695181464fe"
  },
  {
   "cell_type": "markdown",
   "metadata": {},
   "source": [
    "Next, we will set up SSH access to the VMs.\n",
    "\n",
    "First, we will make sure the “public” network is connected to the Internet. Then, we will configure it to permit SSH access on port 22 for each port connected to this network."
   ],
   "id": "a4fa0283-32c5-4e63-a049-a1ea3da9a0f0"
  },
  {
   "cell_type": "code",
   "execution_count": null,
   "metadata": {},
   "outputs": [],
   "source": [
    "# connect them to the Internet on the \"public\" network (e.g. for software installation)\n",
    "router = chi.network.create_router('inet_router_' + username, gw_network_name='public')\n",
    "chi.network.add_subnet_to_router(router.get(\"id\"), public_subnet.get(\"id\"))"
   ],
   "id": "53ffef63-410c-4328-a288-b5b0285fffa2"
  },
  {
   "cell_type": "code",
   "execution_count": null,
   "metadata": {},
   "outputs": [],
   "source": [
    "# prepare SSH access on the servers\n",
    "# WARNING: this relies on undocumented behavior of associate_floating_ip \n",
    "# that it associates the IP with the first port on the server\n",
    "server_ips = []\n",
    "for server_id in server_ids:\n",
    "    ip = chi.server.associate_floating_ip(server_id)\n",
    "    server_ips.append(ip)"
   ],
   "id": "09464962-4e1d-4c0b-9fbe-11abfad391fb"
  },
  {
   "cell_type": "markdown",
   "metadata": {},
   "source": [
    "Note: The following cells assumes that a security group named “Allow SSH” already exists in your project, and is configured to allow SSH access on port 22. If you have done the “Hello, Chameleon” experiment then you already have this security group."
   ],
   "id": "52bc117c-d08d-474e-8339-47ccf809b328"
  },
  {
   "cell_type": "code",
   "execution_count": null,
   "metadata": {},
   "outputs": [],
   "source": [
    "security_group_id = os_conn.get_security_group(\"Allow SSH\").id\n",
    "for port in chi.network.list_ports(): \n",
    "    if port['port_security_enabled'] and port['network_id']==public_net.get(\"id\"):\n",
    "        os_conn.network.update_port(port['id'], security_groups=[security_group_id])"
   ],
   "id": "f798f1f8-52ee-4b89-9839-b5b53f1b4982"
  },
  {
   "cell_type": "code",
   "execution_count": null,
   "metadata": {},
   "outputs": [],
   "source": [
    "for ip in server_ips:\n",
    "    chi.server.wait_for_tcp(ip, port=22)"
   ],
   "id": "030db6bd-1242-4e9c-ba00-fa3e82d154ec"
  },
  {
   "cell_type": "markdown",
   "metadata": {},
   "source": [
    "Finally, we need to configure our resources, including software package installation and network configuration."
   ],
   "id": "318094a8-e7bf-44b6-b4e0-2df474d5ef00"
  },
  {
   "cell_type": "code",
   "execution_count": null,
   "metadata": {},
   "outputs": [],
   "source": [
    "server_remotes = [chi.ssh.Remote(ip) for ip in server_ips]"
   ],
   "id": "cee5c455-1157-4184-a4cc-989bef1e2fde"
  },
  {
   "cell_type": "code",
   "execution_count": null,
   "metadata": {},
   "outputs": [],
   "source": [
    "# configure an IP address on each port that is supposed to have one\n",
    "for port in chi.network.list_ports():\n",
    "    if port['network_id'] in net_ids:\n",
    "        i = server_ids.index(port['device_id'])\n",
    "        j = net_ids.index(port['network_id'])\n",
    "        port_conf =  [item for item in net_conf[j]['nodes'] if item['name'] == node_conf[i]['name'] ][0]\n",
    "        if port_conf['addr']:\n",
    "            server_remotes[i].run( \"sudo ip addr flush dev $(ip --br link | grep '\" + port['mac_address'] + \"' | awk '{print $1}')\" )\n",
    "            cmd_prefix = \"sudo ip addr add \" + port_conf['addr'] + \"/\" + net_conf[j]['subnet'].split(\"/\")[1] \n",
    "            server_remotes[i].run( cmd_prefix + \" dev $(ip --br link | grep '\" + port['mac_address'] + \"' | awk '{print $1}')\" )\n",
    "        else:\n",
    "            server_remotes[i].run( \"sudo ip addr flush dev $(ip --br link | grep '\" + port['mac_address'] + \"' | awk '{print $1}')\" )"
   ],
   "id": "04a4a995-01c2-4056-8fc6-b65698a7e4b5"
  },
  {
   "cell_type": "code",
   "execution_count": null,
   "metadata": {},
   "outputs": [],
   "source": [
    "for i, n in enumerate(node_conf):\n",
    "    remote = server_remotes[i]\n",
    "    # enable forwarding\n",
    "    remote.run(f\"sudo sysctl -w net.ipv4.ip_forward=1\") \n",
    "    remote.run(f\"sudo firewall-cmd --zone=trusted --add-source=192.168.0.0/16\")\n",
    "    remote.run(f\"sudo firewall-cmd --zone=trusted --add-source=172.16.0.0/12\")\n",
    "    remote.run(f\"sudo firewall-cmd --zone=trusted --add-source=10.0.0.0/8\")\n",
    "    # configure static routes\n",
    "    for r in route_conf: \n",
    "        if n['name'] in r['nodes']:\n",
    "            remote.run(f\"sudo ip route add \" + r['addr'] + \" via \" + r['gw']) "
   ],
   "id": "2193c0b2-6318-4b85-9ae8-413a680b069a"
  },
  {
   "cell_type": "code",
   "execution_count": null,
   "metadata": {},
   "outputs": [],
   "source": [
    "for i, n in enumerate(node_conf):\n",
    "    # install packages\n",
    "    if len(n['packages']):\n",
    "            remote = server_remotes[i]\n",
    "            remote.run(f\"sudo apt update; sudo apt -y install \" + \" \".join(n['packages'])) "
   ],
   "id": "0d26c99e-75b6-4f87-a7ed-b18c618127e6"
  },
  {
   "cell_type": "code",
   "execution_count": null,
   "metadata": {},
   "outputs": [],
   "source": [
    "# prepare a \"hosts\" file that has names and addresses of every node\n",
    "hosts_txt = [ \"%s\\t%s\" % ( n['addr'], n['name'] ) for net in net_conf  for n in net['nodes'] if type(n) is dict and n['addr']]\n",
    "for remote in server_remotes:\n",
    "    for h in hosts_txt:\n",
    "        remote.run(\"echo %s | sudo tee -a /etc/hosts > /dev/null\" % h)"
   ],
   "id": "63d8237e-bd4a-47c0-88e8-4dcc02d5ed48"
  },
  {
   "cell_type": "code",
   "execution_count": null,
   "metadata": {},
   "outputs": [],
   "source": [
    "# turn segment offload off\n",
    "for port in chi.network.list_ports():\n",
    "    if port['network_id'] in net_ids:\n",
    "        i = server_ids.index(port['device_id'])\n",
    "        j = net_ids.index(port['network_id'])\n",
    "        for offload in [\"gro\", \"gso\", \"tso\"]:\n",
    "            server_remotes[i].run( \"sudo ethtool -K $(ip --br link | grep '\" + port['mac_address'] + \"' | awk '{print $1}') \" + offload + \" off\" )"
   ],
   "id": "32f67797-ba00-4256-93ed-5340b488ff71"
  },
  {
   "cell_type": "markdown",
   "metadata": {},
   "source": [
    "### Draw the network topology"
   ],
   "id": "4190457a-f3a2-41f0-84df-ece2cfd64025"
  },
  {
   "cell_type": "markdown",
   "metadata": {},
   "source": [
    "The following cells will draw the network topology, for your reference."
   ],
   "id": "96d7fea9-3b29-446a-9516-fabd9f3a7d5e"
  },
  {
   "cell_type": "code",
   "execution_count": null,
   "metadata": {},
   "outputs": [],
   "source": [
    "!pip install networkx"
   ],
   "id": "02a8a935-a413-4953-b35a-52291a3f806d"
  },
  {
   "cell_type": "code",
   "execution_count": null,
   "metadata": {},
   "outputs": [],
   "source": [
    "nodes = [ (n['name'], {'color': 'pink'}) for n in net_conf ] + [(n['name'], {'color': 'lightblue'}) for n in node_conf ]\n",
    "edges = [(net['name'], node['name'], \n",
    "          {'label': node['addr'] + '/' + net['subnet'].split(\"/\")[1] }) if node['addr'] else (net['name'], node['name']) for net in net_conf for node in net['nodes'] ]"
   ],
   "id": "ac39bb67-edf9-4088-a600-53fe40c0440c"
  },
  {
   "cell_type": "code",
   "execution_count": null,
   "metadata": {},
   "outputs": [],
   "source": [
    "import networkx as nx\n",
    "import matplotlib.pyplot as plt\n",
    "plt.figure(figsize=(len(nodes),len(nodes)))\n",
    "G = nx.Graph()\n",
    "G.add_nodes_from(nodes)\n",
    "G.add_edges_from(edges)\n",
    "pos = nx.spring_layout(G)\n",
    "nx.draw(G, pos, node_shape='s',  \n",
    "        node_color=[n[1]['color'] for n in nodes], \n",
    "        node_size=[len(n[0])*400 for n in nodes],  \n",
    "        with_labels=True);\n",
    "nx.draw_networkx_edge_labels(G,pos,\n",
    "                             edge_labels=nx.get_edge_attributes(G,'label'),\n",
    "                             font_color='gray',  font_size=8, rotate=False);"
   ],
   "id": "aa037b35-c4b1-4e96-b8e2-1b41a9d1cec9"
  },
  {
   "cell_type": "markdown",
   "metadata": {},
   "source": [
    "### Log in to resources\n",
    "\n",
    "At this point, we should be able to log in to our resources over SSH! Run the following cell, and observe the output - you will see an SSH command for each of the nodes in your topology."
   ],
   "id": "91b5c13f-0aa1-487b-a9da-563c304fef3e"
  },
  {
   "cell_type": "code",
   "execution_count": null,
   "metadata": {},
   "outputs": [],
   "source": [
    "import pandas as pd\n",
    "pd.set_option('display.max_colwidth', None)\n",
    "slice_info = [{'Name': n['name'], 'SSH command': \"ssh cc@\" + server_ips[i] } for i, n in enumerate(node_conf)]\n",
    "pd.DataFrame(slice_info).set_index('Name')"
   ],
   "id": "68317fbc-6dea-459b-920a-491e19fe160c"
  },
  {
   "cell_type": "markdown",
   "metadata": {},
   "source": [
    "Now, you can open an SSH session on any of the nodes as follows:\n",
    "\n",
    "-   In Jupyter, from the menu bar, use File \\> New \\> Terminal to open a new terminal.\n",
    "-   Copy an SSH command from the output above, and paste it into the terminal.\n",
    "-   You can repeat this process (open several terminals) to start a session on each node. Each terminal session will have a tab in the Jupyter environment, so that you can easily switch between them.\n",
    "\n",
    "Alternatively, you can use your local terminal to log on to each node, if you prefer. (On your local terminal, you may need to also specify your key path as part of the SSH command, using the `-i` argument followed by the path to your private key.)"
   ],
   "id": "c31a1c95-b30c-44a3-a464-458f540aa4b8"
  },
  {
   "cell_type": "markdown",
   "metadata": {},
   "source": [
    "### Run the experiment\n",
    "\n",
    "Now, you are ready to run the experiment! Follow the instructions in the [Secure networked applications](https://witestlab.poly.edu/blog/secure-networked-applications/) page to use different networked applications for remote login, file transfer, and web browsing. Each experiment will generate a packet capture, which you can download following the instructions below."
   ],
   "id": "cc889d7d-71ba-4e91-9c37-c5724930e888"
  },
  {
   "cell_type": "markdown",
   "metadata": {},
   "source": [
    "### Exercise: Transfer .pcap files from remote hosts\n",
    "\n",
    "After you have executed the relevant experiment, you can retrieve the packet captures for further analysis using the cells below.\n",
    "\n",
    "You should see the .pcap files appear in the Jupyter file browser on the left. You can now download this file from the Jupyter environment to your own laptop to analyze them in Wireshark."
   ],
   "id": "61f9d65d-fe42-498b-be4d-e7a0694d6048"
  },
  {
   "cell_type": "code",
   "execution_count": null,
   "metadata": {},
   "outputs": [],
   "source": [
    "# remote login experiments\n",
    "romeo_remote = chi.ssh.Remote(server_ips[0])\n",
    "romeo_remote.get(\"/home/cc/security-telnet-\" +   romeo_remote.run(\"hostname -s\").stdout.strip(\"\\n\") + \".pcap\")\n",
    "romeo_remote.get(\"/home/cc/security-ssh-\" +   romeo_remote.run(\"hostname -s\").stdout.strip(\"\\n\") + \".pcap\")"
   ],
   "id": "f8cae6a8-57f6-425c-9652-adfafeccf836"
  },
  {
   "cell_type": "code",
   "execution_count": null,
   "metadata": {},
   "outputs": [],
   "source": [
    "# file transfer experiments\n",
    "romeo_remote = chi.ssh.Remote(server_ips[0])\n",
    "romeo_remote.get(\"/home/cc/security-ftp-\" +   romeo_remote.run(\"hostname -s\").stdout.strip(\"\\n\") + \".pcap\")\n",
    "romeo_remote.get(\"/home/cc/security-sftp-\" +   romeo_remote.run(\"hostname -s\").stdout.strip(\"\\n\") + \".pcap\")"
   ],
   "id": "9bf11f9a-ba6c-4a59-9d30-68fea1ae615b"
  },
  {
   "cell_type": "code",
   "execution_count": null,
   "metadata": {},
   "outputs": [],
   "source": [
    "# web browsing experiments\n",
    "romeo_remote = chi.ssh.Remote(server_ips[0])\n",
    "romeo_remote.get(\"/home/cc/security-http-\" +   romeo_remote.run(\"hostname -s\").stdout.strip(\"\\n\") + \".pcap\")\n",
    "romeo_remote.get(\"/home/cc/security-https-\" +   romeo_remote.run(\"hostname -s\").stdout.strip(\"\\n\") + \".pcap\")"
   ],
   "id": "52773752-9a17-4504-8c9b-ac671e1b11ba"
  },
  {
   "cell_type": "markdown",
   "metadata": {},
   "source": [
    "### Delete resources\n",
    "\n",
    "When you finish your experiment, you should delete your resources! The following cells deletes all the resources in this experiment, freeing them for other experimenters."
   ],
   "id": "d3d08a25-6a9a-41bd-9069-e9d00fd59db5"
  },
  {
   "cell_type": "code",
   "execution_count": null,
   "metadata": {},
   "outputs": [],
   "source": [
    "# delete the nodes\n",
    "server_ids = [chi.server.get_server_id(n['name'] + \"_\" + username) for n in node_conf]\n",
    "server_ips = [d['addr'] for s in server_ids for d in chi.server.show_server(s).addresses['public_net_' + username] if d['OS-EXT-IPS:type']=='floating']\n",
    "for server_id in server_ids:\n",
    "    chi.server.delete_server(server_id)"
   ],
   "id": "9fa22dc4-f958-4918-8cd6-a590ba43c3fc"
  },
  {
   "cell_type": "code",
   "execution_count": null,
   "metadata": {},
   "outputs": [],
   "source": [
    "# release the floating IP addresses used for SSH\n",
    "for server_ip in server_ips:\n",
    "    ip_details = chi.network.get_floating_ip(server_ip)\n",
    "    chi.neutron().delete_floatingip(ip_details[\"id\"])"
   ],
   "id": "50a63dcb-d13d-4f0a-b23f-2444d5e3e29d"
  },
  {
   "cell_type": "code",
   "execution_count": null,
   "metadata": {},
   "outputs": [],
   "source": [
    "# delete the router used for public Internet access\n",
    "router = chi.network.get_router(\"inet_router_\" + username)\n",
    "public_subnet = chi.network.get_subnet(\"public_subnet_\" + username)\n",
    "public_net = chi.network.get_network(\"public_net_\" + username)\n",
    "chi.network.remove_subnet_from_router(router.get(\"id\"), public_subnet.get(\"id\"))\n",
    "chi.network.delete_router(router.get(\"id\"))"
   ],
   "id": "9e175e38-5314-48b7-8466-eccec798167b"
  },
  {
   "cell_type": "code",
   "execution_count": null,
   "metadata": {},
   "outputs": [],
   "source": [
    "# delete the public network\n",
    "chi.network.delete_subnet(public_subnet.get('id'))\n",
    "chi.network.delete_network(public_net.get(\"id\"))"
   ],
   "id": "bc6d2e5e-41e9-4204-ba72-7b5377c69a76"
  },
  {
   "cell_type": "code",
   "execution_count": null,
   "metadata": {},
   "outputs": [],
   "source": [
    "# delete the experiment networks\n",
    "subnets = [chi.network.get_subnet(\"exp_subnet_\" + n['name']  + '_' + username) for n in net_conf]\n",
    "nets    = [chi.network.get_network(\"exp_\" + n['name']  + '_' + username) for n in net_conf]\n",
    "for subnet, net in zip(subnets, nets):\n",
    "    chi.network.delete_subnet(subnet.get('id'))\n",
    "    chi.network.delete_network(net.get('id'))"
   ],
   "id": "1e596000-2aca-416c-9db5-6a3e0b83b7ed"
  }
 ],
 "nbformat": 4,
 "nbformat_minor": 5,
 "metadata": {}
}
