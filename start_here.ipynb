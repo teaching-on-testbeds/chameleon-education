{
 "cells": [
  {
   "cell_type": "markdown",
   "metadata": {},
   "source": [
    "# Static routing"
   ],
   "id": "59de4182-1ae0-47c3-8524-c0476adcb069"
  },
  {
   "cell_type": "markdown",
   "metadata": {},
   "source": [
    "In this notebook you will:\n",
    "\n",
    "-   Reserve resources for this experiment\n",
    "-   Configure your reserved resources\n",
    "-   Access your reserved resources over SSH\n",
    "\n",
    "Then you will run the experiment at [Static routing within and between IPv4 networks](https://witestlab.poly.edu/blog/static-routing/).\n",
    "\n",
    "Finally, you will\n",
    "\n",
    "-   Delete the resources to free them for other users"
   ],
   "id": "cd612e6c-7ef2-4892-8667-8c01ee8ba3b0"
  },
  {
   "cell_type": "markdown",
   "metadata": {},
   "source": [
    "### Configure environment"
   ],
   "id": "e816172c-3829-4abc-a7bc-eb3d3c7d301b"
  },
  {
   "cell_type": "code",
   "execution_count": null,
   "metadata": {},
   "outputs": [],
   "source": [
    "import openstack, chi, chi.ssh, chi.network, chi.server, os"
   ],
   "id": "2e99453f-2baf-4cbb-bbfd-138b4f95f080"
  },
  {
   "cell_type": "markdown",
   "metadata": {},
   "source": [
    "In this section, we configure the Chameleon Python client.\n",
    "\n",
    "For this experiment, we’re going to use the KVM@TACC site, which we indicate below.\n",
    "\n",
    "We also need to specify the name of the Chameleon “project” that this experiment is part of. The project name will have the format “CHI-XXXXXX”, where the last part is a 6-digit number, and you can find it on your [user dashboard](https://chameleoncloud.org/user/dashboard/)."
   ],
   "id": "2e9b47d6-dfa2-4a61-98d6-959391cacdd9"
  },
  {
   "cell_type": "markdown",
   "metadata": {},
   "source": [
    "In the cell below, replace the project ID with your own project ID, then run the cell."
   ],
   "id": "4d323b09-7dc9-462b-9892-88d9428d1841"
  },
  {
   "cell_type": "code",
   "execution_count": null,
   "metadata": {},
   "outputs": [],
   "source": [
    "chi.use_site(\"KVM@TACC\")\n",
    "PROJECT_NAME = \"CHI-XXXXXX\"\n",
    "chi.set(\"project_name\", PROJECT_NAME)\n",
    "\n",
    "# configure openstacksdk for actions unsupported by python-chi\n",
    "os_conn = chi.clients.connection()\n"
   ],
   "id": "33c95582-f8c8-450c-b86e-ae6caac0b9b0"
  },
  {
   "cell_type": "markdown",
   "metadata": {},
   "source": [
    "### Define configuration for this experiment"
   ],
   "id": "60d3d444-70a7-44de-99c6-506d4c370e82"
  },
  {
   "cell_type": "code",
   "execution_count": null,
   "metadata": {},
   "outputs": [],
   "source": [
    "username = os.getenv('USER')\n",
    "\n",
    "node_conf = [\n",
    " {'name': \"romeo\",   'cores': 1, 'ram': 2, 'disk': 10, 'image': 'CC-Ubuntu22.04', 'packages': []}, \n",
    " {'name': \"juliet\",  'cores': 1, 'ram': 2, 'disk': 10, 'image': 'CC-Ubuntu22.04', 'packages': []}, \n",
    " {'name': \"hamlet\",  'cores': 1, 'ram': 2, 'disk': 10, 'image': 'CC-Ubuntu22.04', 'packages': []},\n",
    " {'name': \"ophelia\", 'cores': 1, 'ram': 2, 'disk': 10, 'image': 'CC-Ubuntu22.04', 'packages': []},\n",
    " {'name': \"router-1\",'cores': 1, 'ram': 2, 'disk': 10, 'image': 'CC-Ubuntu22.04', 'packages': []},\n",
    " {'name': \"router-2\",'cores': 1, 'ram': 2, 'disk': 10, 'image': 'CC-Ubuntu22.04', 'packages': []},\n",
    " {'name': \"router-3\",'cores': 1, 'ram': 2, 'disk': 10, 'image': 'CC-Ubuntu22.04', 'packages': []},\n",
    " {'name': \"othello\", 'cores': 1, 'ram': 2, 'disk': 10, 'image': 'CC-Ubuntu22.04', 'packages': []},\n",
    "\n",
    "]\n",
    "net_conf = [\n",
    " {\"name\": \"net-red\", \"subnet\": \"10.10.0/24\", \"nodes\": [{\"name\": \"romeo\",   \"addr\": \"10.10.0.100\"}, {\"name\": \"juliet\",   \"addr\": \"10.10.0.101\"}, {\"name\": \"hamlet\",   \"addr\": \"10.10.0.102\"}, {\"name\": \"ophelia\",   \"addr\": \"10.10.0.103\"}, {\"name\": \"router-1\", \"addr\": \"10.10.0.1\"}]},\n",
    " {\"name\": \"net-blue\", \"subnet\": \"10.10.100.0/24\", \"nodes\": [{\"name\": \"router-1\",  \"addr\": \"10.10.100.1\"}, {\"name\": \"router-2\", \"addr\": \"10.10.100.2\"}, {\"name\": \"router-3\", \"addr\": \"10.10.100.3\"}]},\n",
    " {\"name\": \"net-green\", \"subnet\": \"10.10.1.0/24\", \"nodes\": [{\"name\": \"router-2\", \"addr\": \"10.10.1.1\"}, {\"name\": \"othello\", \"addr\": \"10.10.1.104\"}]},\n",
    " {\"name\": \"net-purple\", \"subnet\": \"10.10.2.0/24\", \"nodes\": [{\"name\": \"router-3\", \"addr\": \"10.10.2.1\"}, {\"name\": \"othello\", \"addr\": \"10.10.2.104\"}]}\n",
    "]\n",
    "route_conf = []\n"
   ],
   "id": "b068f2f8-d349-4c6a-8918-0857d60319f0"
  },
  {
   "cell_type": "markdown",
   "metadata": {},
   "source": [
    "### Configure resources\n",
    "\n",
    "Now, we will prepare the VMs and network links that our experiment requires."
   ],
   "id": "32f74f78-add9-4d2a-9f89-690b866f247b"
  },
  {
   "cell_type": "markdown",
   "metadata": {},
   "source": [
    "First, we will prepare a “public” network that we will use for SSH access to our VMs -"
   ],
   "id": "b4077a3c-d7c0-4c4c-82a9-5ae123ab85a6"
  },
  {
   "cell_type": "code",
   "execution_count": null,
   "metadata": {},
   "outputs": [],
   "source": [
    "public_net = os_conn.network.create_network(name=\"public_net_\" + username)\n",
    "public_net_id = public_net.get(\"id\")\n",
    "public_subnet = os_conn.network.create_subnet(\n",
    "    name=\"public_subnet_\" + username,\n",
    "    network_id=public_net.get(\"id\"),\n",
    "    ip_version='4',\n",
    "    cidr=\"192.168.10.0/24\",\n",
    "    gateway_ip=\"192.168.10.1\",\n",
    "    is_dhcp_enabled = True\n",
    ")"
   ],
   "id": "7e1240b7-0ccd-4d5b-b5da-ed03eed9d69e"
  },
  {
   "cell_type": "markdown",
   "metadata": {},
   "source": [
    "Next, we will prepare the “experiment” networks -"
   ],
   "id": "d8bde8d1-e08c-4342-9880-f322cf182373"
  },
  {
   "cell_type": "code",
   "execution_count": null,
   "metadata": {},
   "outputs": [],
   "source": [
    "nets = []\n",
    "net_ids = []\n",
    "subnets = []\n",
    "for n in net_conf:\n",
    "    exp_net = os_conn.network.create_network(name=\"exp_\" + n['name']  + '_' + username)\n",
    "    exp_net_id = exp_net.get(\"id\")\n",
    "    os_conn.network.update_network(exp_net, is_port_security_enabled=False)\n",
    "    exp_subnet = os_conn.network.create_subnet(\n",
    "        name=\"exp_subnet_\" + n['name']  + '_' + username,\n",
    "        network_id=exp_net.get(\"id\"),\n",
    "        ip_version='4',\n",
    "        cidr=n['subnet'],\n",
    "        gateway_ip=None,\n",
    "        is_dhcp_enabled = False\n",
    "    )\n",
    "    nets.append(exp_net)\n",
    "    net_ids.append(exp_net_id)\n",
    "    subnets.append(exp_subnet)"
   ],
   "id": "749627e5-94eb-40a7-8ee6-a479471cd374"
  },
  {
   "cell_type": "markdown",
   "metadata": {},
   "source": [
    "Now we create the VMs -"
   ],
   "id": "e15e390f-316f-4cc7-a929-bd0128de90ad"
  },
  {
   "cell_type": "code",
   "execution_count": null,
   "metadata": {},
   "outputs": [],
   "source": [
    "servers = []\n",
    "server_ids = []\n",
    "for i, n in enumerate(node_conf, start=10):\n",
    "    image_uuid = os_conn.image.find_image(n['image']).id\n",
    "    flavor_uuid = os_conn.compute.find_flavor(n['flavor']).id\n",
    "    # find out details of exp interface(s)\n",
    "    nics = [{'net-id': chi.network.get_network_id( \"exp_\" + net['name']  + '_' + username ), 'v4-fixed-ip': node['addr']} for net in net_conf for node in net['nodes'] if node['name']==n['name']]\n",
    "    # also include a public network interface\n",
    "    nics.insert(0, {\"net-id\": public_net_id, \"v4-fixed-ip\":\"192.168.10.\" + str(i)})\n",
    "    server = chi.server.create_server(\n",
    "        server_name=n['name'] + \"_\" + username,\n",
    "        image_id=image_uuid,\n",
    "        flavor_id=flavor_uuid,\n",
    "        nics=nics\n",
    "    )\n",
    "    servers.append(server)\n",
    "    server_ids.append(chi.server.get_server(n['name'] + \"_\" + username).id)"
   ],
   "id": "4effa0ab-de31-4b16-82cd-03fed05cef9b"
  },
  {
   "cell_type": "markdown",
   "metadata": {},
   "source": [
    "We wait for all servers to come up before we proceed -"
   ],
   "id": "04b887a1-84db-4fa9-9bd5-9ffbd907963d"
  },
  {
   "cell_type": "code",
   "execution_count": null,
   "metadata": {},
   "outputs": [],
   "source": [
    "for server_id in server_ids:\n",
    "    chi.server.wait_for_active(server_id)"
   ],
   "id": "c8a48d92-79b7-485f-97e5-e1faf3e4d959"
  },
  {
   "cell_type": "markdown",
   "metadata": {},
   "source": [
    "Next, we will set up SSH access to the VMs.\n",
    "\n",
    "First, we will make sure the “public” network is connected to the Internet. Then, we will configure it to permit SSH access on port 22 for each port connected to this network."
   ],
   "id": "75c40e2e-5e04-4698-b6da-a5313026d944"
  },
  {
   "cell_type": "code",
   "execution_count": null,
   "metadata": {},
   "outputs": [],
   "source": [
    "# connect them to the Internet on the \"public\" network (e.g. for software installation)\n",
    "router = chi.network.create_router('inet_router_' + username, gw_network_name='public')\n",
    "chi.network.add_subnet_to_router(router.get(\"id\"), public_subnet.get(\"id\"))"
   ],
   "id": "641b336a-18ef-4822-ab16-0589af28ea4b"
  },
  {
   "cell_type": "code",
   "execution_count": null,
   "metadata": {},
   "outputs": [],
   "source": [
    "# prepare SSH access on the servers\n",
    "# WARNING: this relies on undocumented behavior of associate_floating_ip \n",
    "# that it associates the IP with the first port on the server\n",
    "server_ips = []\n",
    "for server_id in server_ids:\n",
    "    ip = chi.server.associate_floating_ip(server_id)\n",
    "    server_ips.append(ip)"
   ],
   "id": "1494405d-04df-4412-87b5-97e8db37df10"
  },
  {
   "cell_type": "markdown",
   "metadata": {},
   "source": [
    "Note: The following cells assumes that a security group named “Allow SSH” already exists in your project, and is configured to allow SSH access on port 22. If you have done the “Hello, Chameleon” experiment then you already have this security group."
   ],
   "id": "1886cdb6-3574-4881-9db1-4fab02b48c8b"
  },
  {
   "cell_type": "code",
   "execution_count": null,
   "metadata": {},
   "outputs": [],
   "source": [
    "security_group_id = os_conn.get_security_group(\"Allow SSH\").id\n",
    "for port in chi.network.list_ports(): \n",
    "    if port['port_security_enabled'] and port['network_id']==public_net.get(\"id\"):\n",
    "        os_conn.network.update_port(port['id'], security_groups=[security_group_id])"
   ],
   "id": "24e8413c-225b-4389-86e5-b8db9c133b0b"
  },
  {
   "cell_type": "code",
   "execution_count": null,
   "metadata": {},
   "outputs": [],
   "source": [
    "for ip in server_ips:\n",
    "    chi.server.wait_for_tcp(ip, port=22)"
   ],
   "id": "e96964c3-e0be-4240-9f94-d5ada1caebe4"
  },
  {
   "cell_type": "markdown",
   "metadata": {},
   "source": [
    "Finally, we need to configure our resources, including software package installation and network configuration."
   ],
   "id": "d7db4054-a1b2-4598-b0fc-c9d66b956d5f"
  },
  {
   "cell_type": "code",
   "execution_count": null,
   "metadata": {},
   "outputs": [],
   "source": [
    "server_remotes = [chi.ssh.Remote(ip) for ip in server_ips]"
   ],
   "id": "c22019ab-6be1-4a5e-9b6f-e4c7bdd60f0c"
  },
  {
   "cell_type": "code",
   "execution_count": null,
   "metadata": {},
   "outputs": [],
   "source": [
    "# configure an IP address on each port that is supposed to have one\n",
    "for port in chi.network.list_ports():\n",
    "    if port['network_id'] in net_ids:\n",
    "        i = server_ids.index(port['device_id'])\n",
    "        j = net_ids.index(port['network_id'])\n",
    "        port_conf =  [item for item in net_conf[j]['nodes'] if item['name'] == node_conf[i]['name'] ][0]\n",
    "        if port_conf['addr']:\n",
    "            server_remotes[i].run( \"sudo ip addr flush dev $(ip --br link | grep '\" + port['mac_address'] + \"' | awk '{print $1}')\" )\n",
    "            cmd_prefix = \"sudo ip addr add \" + port_conf['addr'] + \"/\" + net_conf[j]['subnet'].split(\"/\")[1] \n",
    "            server_remotes[i].run( cmd_prefix + \" dev $(ip --br link | grep '\" + port['mac_address'] + \"' | awk '{print $1}')\" )\n",
    "        else:\n",
    "            server_remotes[i].run( \"sudo ip addr flush dev $(ip --br link | grep '\" + port['mac_address'] + \"' | awk '{print $1}')\" )"
   ],
   "id": "740d2537-432c-4d31-a488-27de8fc142df"
  },
  {
   "cell_type": "code",
   "execution_count": null,
   "metadata": {},
   "outputs": [],
   "source": [
    "for i, n in enumerate(node_conf):\n",
    "    remote = server_remotes[i]\n",
    "    # enable forwarding\n",
    "    remote.run(f\"sudo sysctl -w net.ipv4.ip_forward=1\") \n",
    "    remote.run(f\"sudo firewall-cmd --zone=trusted --add-source=192.168.0.0/16\")\n",
    "    remote.run(f\"sudo firewall-cmd --zone=trusted --add-source=172.16.0.0/12\")\n",
    "    remote.run(f\"sudo firewall-cmd --zone=trusted --add-source=10.0.0.0/8\")\n",
    "    # configure static routes\n",
    "    for r in route_conf: \n",
    "        if n['name'] in r['nodes']:\n",
    "            remote.run(f\"sudo ip route add \" + r['addr'] + \" via \" + r['gw']) "
   ],
   "id": "48303fb5-718f-41e1-a614-a8188bd8b543"
  },
  {
   "cell_type": "code",
   "execution_count": null,
   "metadata": {},
   "outputs": [],
   "source": [
    "for i, n in enumerate(node_conf):\n",
    "    # install packages\n",
    "    if len(n['packages']):\n",
    "            remote = server_remotes[i]\n",
    "            remote.run(f\"sudo apt update; sudo apt -y install \" + \" \".join(n['packages'])) "
   ],
   "id": "aaf20ba6-3753-478e-a14e-764ae0f553d4"
  },
  {
   "cell_type": "code",
   "execution_count": null,
   "metadata": {},
   "outputs": [],
   "source": [
    "# prepare a \"hosts\" file that has names and addresses of every node\n",
    "hosts_txt = [ \"%s\\t%s\" % ( n['addr'], n['name'] ) for net in net_conf  for n in net['nodes'] if type(n) is dict and n['addr']]\n",
    "for remote in server_remotes:\n",
    "    for h in hosts_txt:\n",
    "        remote.run(\"echo %s | sudo tee -a /etc/hosts > /dev/null\" % h)"
   ],
   "id": "a78e35a2-e2d5-484a-b238-cf5930971c3a"
  },
  {
   "cell_type": "code",
   "execution_count": null,
   "metadata": {},
   "outputs": [],
   "source": [
    "# turn segment offload off\n",
    "for port in chi.network.list_ports():\n",
    "    if port['network_id'] in net_ids:\n",
    "        i = server_ids.index(port['device_id'])\n",
    "        j = net_ids.index(port['network_id'])\n",
    "        for offload in [\"gro\", \"gso\", \"tso\"]:\n",
    "            server_remotes[i].run( \"sudo ethtool -K $(ip --br link | grep '\" + port['mac_address'] + \"' | awk '{print $1}') \" + offload + \" off\" )"
   ],
   "id": "a7462d4f-5383-4be2-a2f6-67243ee12555"
  },
  {
   "cell_type": "markdown",
   "metadata": {},
   "source": [
    "### Draw the network topology"
   ],
   "id": "53ab71a7-8ee8-4dd2-a43c-633deefcf966"
  },
  {
   "cell_type": "markdown",
   "metadata": {},
   "source": [
    "The following cells will draw the network topology, for your reference."
   ],
   "id": "a317f6da-8f24-4c93-9f69-a1abb82e4118"
  },
  {
   "cell_type": "code",
   "execution_count": null,
   "metadata": {},
   "outputs": [],
   "source": [
    "!pip install networkx"
   ],
   "id": "84f77ff6-2a07-4445-8484-2d612e3a80b9"
  },
  {
   "cell_type": "code",
   "execution_count": null,
   "metadata": {},
   "outputs": [],
   "source": [
    "nodes = [ (n['name'], {'color': 'pink'}) for n in net_conf ] + [(n['name'], {'color': 'lightblue'}) for n in node_conf ]\n",
    "edges = [(net['name'], node['name'], \n",
    "          {'label': node['addr'] + '/' + net['subnet'].split(\"/\")[1] }) if node['addr'] else (net['name'], node['name']) for net in net_conf for node in net['nodes'] ]"
   ],
   "id": "bc7ff20d-6f8e-4d12-83be-3cd17c21b8a3"
  },
  {
   "cell_type": "code",
   "execution_count": null,
   "metadata": {},
   "outputs": [],
   "source": [
    "import networkx as nx\n",
    "import matplotlib.pyplot as plt\n",
    "plt.figure(figsize=(len(nodes),len(nodes)))\n",
    "G = nx.Graph()\n",
    "G.add_nodes_from(nodes)\n",
    "G.add_edges_from(edges)\n",
    "pos = nx.spring_layout(G)\n",
    "nx.draw(G, pos, node_shape='s',  \n",
    "        node_color=[n[1]['color'] for n in nodes], \n",
    "        node_size=[len(n[0])*400 for n in nodes],  \n",
    "        with_labels=True);\n",
    "nx.draw_networkx_edge_labels(G,pos,\n",
    "                             edge_labels=nx.get_edge_attributes(G,'label'),\n",
    "                             font_color='gray',  font_size=8, rotate=False);"
   ],
   "id": "45883286-2698-4fff-b528-09fdf6f876a6"
  },
  {
   "cell_type": "markdown",
   "metadata": {},
   "source": [
    "### Log in to resources\n",
    "\n",
    "At this point, we should be able to log in to our resources over SSH! Run the following cell, and observe the output - you will see an SSH command for each of the nodes in your topology."
   ],
   "id": "abc0971c-78f9-4a7d-b06a-f50da0034f6c"
  },
  {
   "cell_type": "code",
   "execution_count": null,
   "metadata": {},
   "outputs": [],
   "source": [
    "import pandas as pd\n",
    "pd.set_option('display.max_colwidth', None)\n",
    "slice_info = [{'Name': n['name'], 'SSH command': \"ssh cc@\" + server_ips[i] } for i, n in enumerate(node_conf)]\n",
    "pd.DataFrame(slice_info).set_index('Name')"
   ],
   "id": "13552153-66ea-4b1d-9b6a-75f1a85bf687"
  },
  {
   "cell_type": "markdown",
   "metadata": {},
   "source": [
    "Now, you can open an SSH session on any of the nodes as follows:\n",
    "\n",
    "-   In Jupyter, from the menu bar, use File \\> New \\> Terminal to open a new terminal.\n",
    "-   Copy an SSH command from the output above, and paste it into the terminal.\n",
    "-   You can repeat this process (open several terminals) to start a session on each node. Each terminal session will have a tab in the Jupyter environment, so that you can easily switch between them.\n",
    "\n",
    "Alternatively, you can use your local terminal to log on to each node, if you prefer. (On your local terminal, you may need to also specify your key path as part of the SSH command, using the `-i` argument followed by the path to your private key.)"
   ],
   "id": "78f87170-d272-4036-95d4-a11c9124d3cc"
  },
  {
   "cell_type": "markdown",
   "metadata": {},
   "source": [
    "### Delete resources\n",
    "\n",
    "When you finish your experiment, you should delete your resources! The following cells deletes all the resources in this experiment, freeing them for other experimenters."
   ],
   "id": "5a760e9d-a2c7-41c4-9b92-b7b3eb94d792"
  },
  {
   "cell_type": "code",
   "execution_count": null,
   "metadata": {},
   "outputs": [],
   "source": [
    "# delete the nodes\n",
    "server_ids = [chi.server.get_server_id(n['name'] + \"_\" + username) for n in node_conf]\n",
    "server_ips = [d['addr'] for s in server_ids for d in chi.server.show_server(s).addresses['public_net_' + username] if d['OS-EXT-IPS:type']=='floating']\n",
    "for server_id in server_ids:\n",
    "    chi.server.delete_server(server_id)"
   ],
   "id": "6548e1a6-4291-49fe-9dac-1b05a76373dc"
  },
  {
   "cell_type": "code",
   "execution_count": null,
   "metadata": {},
   "outputs": [],
   "source": [
    "# release the floating IP addresses used for SSH\n",
    "for server_ip in server_ips:\n",
    "    ip_details = chi.network.get_floating_ip(server_ip)\n",
    "    chi.neutron().delete_floatingip(ip_details[\"id\"])"
   ],
   "id": "5a9f45bf-627b-4c7e-9ff7-a12491f10872"
  },
  {
   "cell_type": "code",
   "execution_count": null,
   "metadata": {},
   "outputs": [],
   "source": [
    "# delete the router used for public Internet access\n",
    "router = chi.network.get_router(\"inet_router_\" + username)\n",
    "public_subnet = chi.network.get_subnet(\"public_subnet_\" + username)\n",
    "public_net = chi.network.get_network(\"public_net_\" + username)\n",
    "chi.network.remove_subnet_from_router(router.get(\"id\"), public_subnet.get(\"id\"))\n",
    "chi.network.delete_router(router.get(\"id\"))"
   ],
   "id": "8f4ed776-d6dc-4646-810b-31cfbbde54b3"
  },
  {
   "cell_type": "code",
   "execution_count": null,
   "metadata": {},
   "outputs": [],
   "source": [
    "# delete the public network\n",
    "chi.network.delete_subnet(public_subnet.get('id'))\n",
    "chi.network.delete_network(public_net.get(\"id\"))"
   ],
   "id": "e8e7ca6f-120e-4c2a-a76f-1760d78273c1"
  },
  {
   "cell_type": "code",
   "execution_count": null,
   "metadata": {},
   "outputs": [],
   "source": [
    "# delete the experiment networks\n",
    "subnets = [chi.network.get_subnet(\"exp_subnet_\" + n['name']  + '_' + username) for n in net_conf]\n",
    "nets    = [chi.network.get_network(\"exp_\" + n['name']  + '_' + username) for n in net_conf]\n",
    "for subnet, net in zip(subnets, nets):\n",
    "    chi.network.delete_subnet(subnet.get('id'))\n",
    "    chi.network.delete_network(net.get('id'))"
   ],
   "id": "10af5cb3-67de-4765-8baf-c5941d61bde9"
  }
 ],
 "nbformat": 4,
 "nbformat_minor": 5,
 "metadata": {}
}
