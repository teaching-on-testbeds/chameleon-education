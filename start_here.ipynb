{
 "cells": [
  {
   "cell_type": "markdown",
   "metadata": {},
   "source": [
    "# Inspecting network traffic with `tcpdump` and Wireshark"
   ],
   "id": "ef1324c3-d205-4a44-b110-2b610fc14d2c"
  },
  {
   "cell_type": "markdown",
   "metadata": {},
   "source": [
    "In this experiment you will practice using tcpdump and Wireshark, two software applications for packet capture and packet analysis.\n",
    "\n",
    "Using these applications, we can capture raw network data as it arrives at or leaves any host in our experiments, save the raw network packets in a file, and analyze the packets in this file in order to gain insight into network protocols and their behavior."
   ],
   "id": "c6cf7abe-eab4-4cd4-9e73-a2c434fa0660"
  },
  {
   "cell_type": "markdown",
   "metadata": {},
   "source": [
    "In this notebook you will:\n",
    "\n",
    "-   Reserve resources for this experiment\n",
    "-   Configure your reserved resources\n",
    "-   Access your reserved resources over SSH\n",
    "\n",
    "Then, you will follow the instructions in [Inspecting network traffic with tcpdump and Wireshark](https://witestlab.poly.edu/blog/wireshark-tcpdump/) to execute the experiment.\n",
    "\n",
    "Finally, you will\n",
    "\n",
    "-   Delete your resources when you are finished"
   ],
   "id": "ec7cf2fc-5eae-4bd0-b6ca-3c4ad554b69a"
  },
  {
   "cell_type": "markdown",
   "metadata": {},
   "source": [
    "### Configure environment"
   ],
   "id": "623a633b-ea29-4867-a62c-32037c6ae726"
  },
  {
   "cell_type": "code",
   "execution_count": null,
   "metadata": {},
   "outputs": [],
   "source": [
    "import openstack, chi, chi.ssh, chi.network, chi.server, os"
   ],
   "id": "62493c11-bc88-461e-b6a2-9f26e9bd2e9a"
  },
  {
   "cell_type": "markdown",
   "metadata": {},
   "source": [
    "In this section, we configure the Chameleon Python client.\n",
    "\n",
    "For this experiment, we’re going to use the KVM@TACC site, which we indicate below.\n",
    "\n",
    "We also need to specify the name of the Chameleon “project” that this experiment is part of. The project name will have the format “CHI-XXXXXX”, where the last part is a 6-digit number, and you can find it on your [user dashboard](https://chameleoncloud.org/user/dashboard/)."
   ],
   "id": "8a0f0f4d-d625-4944-953d-93f842100be3"
  },
  {
   "cell_type": "markdown",
   "metadata": {},
   "source": [
    "In the cell below, replace the project ID with your own project ID, then run the cell."
   ],
   "id": "a9b751ce-6a5e-49a4-bd9b-156461d3473a"
  },
  {
   "cell_type": "code",
   "execution_count": null,
   "metadata": {},
   "outputs": [],
   "source": [
    "chi.use_site(\"KVM@TACC\")\n",
    "PROJECT_NAME = \"CHI-XXXXXX\"\n",
    "chi.set(\"project_name\", PROJECT_NAME)\n",
    "\n",
    "# configure openstacksdk for actions unsupported by python-chi\n",
    "os_conn = chi.clients.connection()\n"
   ],
   "id": "41f39b6b-a354-4cde-90c7-9bbfee689e16"
  },
  {
   "cell_type": "markdown",
   "metadata": {},
   "source": [
    "### Define configuration for this experiment (two hosts and router in line topology)"
   ],
   "id": "10261c0f-4157-47aa-845a-4c29367a397c"
  },
  {
   "cell_type": "code",
   "execution_count": null,
   "metadata": {},
   "outputs": [],
   "source": [
    "username = os.getenv('USER')\n",
    "\n",
    "node_conf = [\n",
    " {'name': \"romeo\",   'flavor': 'm1.small', 'image': 'CC-Ubuntu22.04', 'packages': []}, \n",
    " {'name': \"juliet\",  'flavor': 'm1.small', 'image': 'CC-Ubuntu22.04', 'packages': []}, \n",
    " {'name': \"router\",  'flavor': 'm1.small', 'image': 'CC-Ubuntu22.04', 'packages': []}\n",
    "]\n",
    "net_conf = [\n",
    " {\"name\": \"net1\", \"subnet\": \"10.0.1.0/24\", \"nodes\": [{\"name\": \"romeo\",   \"addr\": \"10.0.1.100\"}, {\"name\": \"router\", \"addr\": \"10.0.1.10\"}]},\n",
    " {\"name\": \"net2\", \"subnet\": \"10.0.2.0/24\", \"nodes\": [{\"name\": \"juliet\",  \"addr\": \"10.0.2.100\"}, {\"name\": \"router\", \"addr\": \"10.0.2.10\"}]}\n",
    "]\n",
    "route_conf = [\n",
    " {\"addr\": \"10.0.2.0/24\", \"gw\": \"10.0.1.10\", \"nodes\": [\"romeo\"]}, \n",
    " {\"addr\": \"10.0.1.0/24\", \"gw\": \"10.0.2.10\", \"nodes\": [\"juliet\"]}\n",
    "]"
   ],
   "id": "d4fe08e4-decc-4ae0-8c5e-5e94ee06d2f4"
  },
  {
   "cell_type": "markdown",
   "metadata": {},
   "source": [
    "### Configure resources\n",
    "\n",
    "Now, we will prepare the VMs and network links that our experiment requires."
   ],
   "id": "c0a6367b-26be-4c61-8bdc-dc51e4cffef3"
  },
  {
   "cell_type": "markdown",
   "metadata": {},
   "source": [
    "First, we will prepare a “public” network that we will use for SSH access to our VMs -"
   ],
   "id": "b1c6c5bb-2f93-4b89-b28d-28aed70542fe"
  },
  {
   "cell_type": "code",
   "execution_count": null,
   "metadata": {},
   "outputs": [],
   "source": [
    "public_net = os_conn.network.create_network(name=\"public_net_\" + username)\n",
    "public_net_id = public_net.get(\"id\")\n",
    "public_subnet = os_conn.network.create_subnet(\n",
    "    name=\"public_subnet_\" + username,\n",
    "    network_id=public_net.get(\"id\"),\n",
    "    ip_version='4',\n",
    "    cidr=\"192.168.10.0/24\",\n",
    "    gateway_ip=\"192.168.10.1\",\n",
    "    is_dhcp_enabled = True\n",
    ")"
   ],
   "id": "49e2ff39-443c-476e-9120-9ef1dcea0de7"
  },
  {
   "cell_type": "markdown",
   "metadata": {},
   "source": [
    "Next, we will prepare the “experiment” networks -"
   ],
   "id": "36e99805-6dd3-41f5-928b-2e36180657fd"
  },
  {
   "cell_type": "code",
   "execution_count": null,
   "metadata": {},
   "outputs": [],
   "source": [
    "nets = []\n",
    "net_ids = []\n",
    "subnets = []\n",
    "for n in net_conf:\n",
    "    exp_net = os_conn.network.create_network(name=\"exp_\" + n['name']  + '_' + username)\n",
    "    exp_net_id = exp_net.get(\"id\")\n",
    "    os_conn.network.update_network(exp_net, is_port_security_enabled=False)\n",
    "    exp_subnet = os_conn.network.create_subnet(\n",
    "        name=\"exp_subnet_\" + n['name']  + '_' + username,\n",
    "        network_id=exp_net.get(\"id\"),\n",
    "        ip_version='4',\n",
    "        cidr=n['subnet'],\n",
    "        gateway_ip=None,\n",
    "        is_dhcp_enabled = False\n",
    "    )\n",
    "    nets.append(exp_net)\n",
    "    net_ids.append(exp_net_id)\n",
    "    subnets.append(exp_subnet)"
   ],
   "id": "fc101921-d05c-4a4d-84ec-26d4df233ea5"
  },
  {
   "cell_type": "markdown",
   "metadata": {},
   "source": [
    "Now we create the VMs -"
   ],
   "id": "518bb782-cf54-4cc1-8d10-176201c66182"
  },
  {
   "cell_type": "code",
   "execution_count": null,
   "metadata": {},
   "outputs": [],
   "source": [
    "servers = []\n",
    "server_ids = []\n",
    "for i, n in enumerate(node_conf, start=10):\n",
    "    image_uuid = os_conn.image.find_image(n['image']).id\n",
    "    flavor_uuid = os_conn.compute.find_flavor(n['flavor']).id\n",
    "    # find out details of exp interface(s)\n",
    "    nics = [{'net-id': chi.network.get_network_id( \"exp_\" + net['name']  + '_' + username ), 'v4-fixed-ip': node['addr']} for net in net_conf for node in net['nodes'] if node['name']==n['name']]\n",
    "    # also include a public network interface\n",
    "    nics.insert(0, {\"net-id\": public_net_id, \"v4-fixed-ip\":\"192.168.10.\" + str(i)})\n",
    "    server = chi.server.create_server(\n",
    "        server_name=n['name'] + \"_\" + username,\n",
    "        image_id=image_uuid,\n",
    "        flavor_id=flavor_uuid,\n",
    "        nics=nics\n",
    "    )\n",
    "    servers.append(server)\n",
    "    server_ids.append(chi.server.get_server(n['name'] + \"_\" + username).id)"
   ],
   "id": "b74ff37b-8f01-4b4c-ba32-d64336a4e69f"
  },
  {
   "cell_type": "markdown",
   "metadata": {},
   "source": [
    "We wait for all servers to come up before we proceed -"
   ],
   "id": "1c2acf39-69c3-4baa-8528-05485e7b451c"
  },
  {
   "cell_type": "code",
   "execution_count": null,
   "metadata": {},
   "outputs": [],
   "source": [
    "for server_id in server_ids:\n",
    "    chi.server.wait_for_active(server_id)"
   ],
   "id": "d91569be-32d2-4e4a-99bc-2b8074ebec2a"
  },
  {
   "cell_type": "markdown",
   "metadata": {},
   "source": [
    "Next, we will set up SSH access to the VMs.\n",
    "\n",
    "First, we will make sure the “public” network is connected to the Internet. Then, we will configure it to permit SSH access on port 22 for each port connected to this network."
   ],
   "id": "bef9dc43-9ded-42a6-b859-8bc01a04bd5c"
  },
  {
   "cell_type": "code",
   "execution_count": null,
   "metadata": {},
   "outputs": [],
   "source": [
    "# connect them to the Internet on the \"public\" network (e.g. for software installation)\n",
    "router = chi.network.create_router('inet_router_' + username, gw_network_name='public')\n",
    "chi.network.add_subnet_to_router(router.get(\"id\"), public_subnet.get(\"id\"))"
   ],
   "id": "8e619498-b6f1-48b7-9032-10159003d1c5"
  },
  {
   "cell_type": "code",
   "execution_count": null,
   "metadata": {},
   "outputs": [],
   "source": [
    "# prepare SSH access on the servers\n",
    "# WARNING: this relies on undocumented behavior of associate_floating_ip \n",
    "# that it associates the IP with the first port on the server\n",
    "server_ips = []\n",
    "for server_id in server_ids:\n",
    "    ip = chi.server.associate_floating_ip(server_id)\n",
    "    server_ips.append(ip)"
   ],
   "id": "83abaa93-6c13-4a66-8690-504a5837e8bf"
  },
  {
   "cell_type": "markdown",
   "metadata": {},
   "source": [
    "Note: The following cells assumes that a security group named “Allow SSH” already exists in your project, and is configured to allow SSH access on port 22. If you have done the “Hello, Chameleon” experiment then you already have this security group."
   ],
   "id": "a8bbd755-918d-4cfa-a1fd-9d14e5ed618b"
  },
  {
   "cell_type": "code",
   "execution_count": null,
   "metadata": {},
   "outputs": [],
   "source": [
    "security_group_id = os_conn.get_security_group(\"Allow SSH\").id\n",
    "for port in chi.network.list_ports(): \n",
    "    if port['port_security_enabled'] and port['network_id']==public_net.get(\"id\"):\n",
    "        os_conn.network.update_port(port['id'], security_groups=[security_group_id])"
   ],
   "id": "e844f060-8b67-44ad-a9aa-92547c77d55e"
  },
  {
   "cell_type": "code",
   "execution_count": null,
   "metadata": {},
   "outputs": [],
   "source": [
    "for ip in server_ips:\n",
    "    chi.server.wait_for_tcp(ip, port=22)"
   ],
   "id": "1c17c0c5-e21f-42cd-bd12-c938aa1df888"
  },
  {
   "cell_type": "markdown",
   "metadata": {},
   "source": [
    "Finally, we need to configure our resources, including software package installation and network configuration."
   ],
   "id": "f34d734b-82a9-4e0a-9e48-ea7935955d89"
  },
  {
   "cell_type": "code",
   "execution_count": null,
   "metadata": {},
   "outputs": [],
   "source": [
    "server_remotes = [chi.ssh.Remote(ip) for ip in server_ips]"
   ],
   "id": "4d2e9d49-8882-4b78-a07b-3e946ef9cb32"
  },
  {
   "cell_type": "code",
   "execution_count": null,
   "metadata": {},
   "outputs": [],
   "source": [
    "# configure an IP address on each port that is supposed to have one\n",
    "for port in chi.network.list_ports():\n",
    "    if port['network_id'] in net_ids:\n",
    "        i = server_ids.index(port['device_id'])\n",
    "        j = net_ids.index(port['network_id'])\n",
    "        port_conf =  [item for item in net_conf[j]['nodes'] if item['name'] == node_conf[i]['name'] ][0]\n",
    "        if port_conf['addr']:\n",
    "            server_remotes[i].run( \"sudo ip addr flush dev $(ip --br link | grep '\" + port['mac_address'] + \"' | awk '{print $1}')\" )\n",
    "            cmd_prefix = \"sudo ip addr add \" + port_conf['addr'] + \"/\" + net_conf[j]['subnet'].split(\"/\")[1] \n",
    "            server_remotes[i].run( cmd_prefix + \" dev $(ip --br link | grep '\" + port['mac_address'] + \"' | awk '{print $1}')\" )\n",
    "        else:\n",
    "            server_remotes[i].run( \"sudo ip addr flush dev $(ip --br link | grep '\" + port['mac_address'] + \"' | awk '{print $1}')\" )"
   ],
   "id": "868f2ce1-aaa6-4acd-929c-f0dfb6525728"
  },
  {
   "cell_type": "code",
   "execution_count": null,
   "metadata": {},
   "outputs": [],
   "source": [
    "for i, n in enumerate(node_conf):\n",
    "    remote = server_remotes[i]\n",
    "    # enable forwarding\n",
    "    remote.run(f\"sudo sysctl -w net.ipv4.ip_forward=1\") \n",
    "    remote.run(f\"sudo ufw disable\") \n",
    "    # configure static routes\n",
    "    for r in route_conf: \n",
    "        if n['name'] in r['nodes']:\n",
    "            remote.run(f\"sudo ip route add \" + r['addr'] + \" via \" + r['gw']) "
   ],
   "id": "4044489f-58c7-409b-b49f-330cb4d8a0dc"
  },
  {
   "cell_type": "code",
   "execution_count": null,
   "metadata": {},
   "outputs": [],
   "source": [
    "for i, n in enumerate(node_conf):\n",
    "    # install packages\n",
    "    if len(n['packages']):\n",
    "            remote = server_remotes[i]\n",
    "            remote.run(f\"sudo apt update; sudo apt -y install \" + \" \".join(n['packages'])) "
   ],
   "id": "2f4cd260-928d-4f9b-932d-81ce84b559a1"
  },
  {
   "cell_type": "code",
   "execution_count": null,
   "metadata": {},
   "outputs": [],
   "source": [
    "# prepare a \"hosts\" file that has names and addresses of every node\n",
    "hosts_txt = [ \"%s\\t%s\" % ( n['addr'], n['name'] ) for net in net_conf  for n in net['nodes'] if type(n) is dict and n['addr']]\n",
    "for remote in server_remotes:\n",
    "    for h in hosts_txt:\n",
    "        remote.run(\"echo %s | sudo tee -a /etc/hosts > /dev/null\" % h)"
   ],
   "id": "50b36cc4-11bd-45ae-8240-a027e060af83"
  },
  {
   "cell_type": "code",
   "execution_count": null,
   "metadata": {},
   "outputs": [],
   "source": [
    "# turn segment offload off\n",
    "for port in chi.network.list_ports():\n",
    "    if port['network_id'] in net_ids:\n",
    "        i = server_ids.index(port['device_id'])\n",
    "        j = net_ids.index(port['network_id'])\n",
    "        for offload in [\"gro\", \"gso\", \"tso\"]:\n",
    "            server_remotes[i].run( \"sudo ethtool -K $(ip --br link | grep '\" + port['mac_address'] + \"' | awk '{print $1}') \" + offload + \" off\" )"
   ],
   "id": "0ad0c58e-82d9-4e76-849b-3c625f0dea03"
  },
  {
   "cell_type": "markdown",
   "metadata": {},
   "source": [
    "### Draw the network topology"
   ],
   "id": "46472ce7-d399-44ca-886b-3f9ade21ed45"
  },
  {
   "cell_type": "markdown",
   "metadata": {},
   "source": [
    "The following cells will draw the network topology, for your reference."
   ],
   "id": "4cc22bca-588a-4293-9e8c-4001b3a069d3"
  },
  {
   "cell_type": "code",
   "execution_count": null,
   "metadata": {},
   "outputs": [],
   "source": [
    "!pip install networkx"
   ],
   "id": "d91945fa-cd69-4070-90ff-2ee180fa95ab"
  },
  {
   "cell_type": "code",
   "execution_count": null,
   "metadata": {},
   "outputs": [],
   "source": [
    "nodes = [ (n['name'], {'color': 'pink'}) for n in net_conf ] + [(n['name'], {'color': 'lightblue'}) for n in node_conf ]\n",
    "edges = [(net['name'], node['name'], \n",
    "          {'label': node['addr'] + '/' + net['subnet'].split(\"/\")[1] }) if node['addr'] else (net['name'], node['name']) for net in net_conf for node in net['nodes'] ]"
   ],
   "id": "8c484aab-534a-4328-86b9-e5794bdb725f"
  },
  {
   "cell_type": "code",
   "execution_count": null,
   "metadata": {},
   "outputs": [],
   "source": [
    "import networkx as nx\n",
    "import matplotlib.pyplot as plt\n",
    "plt.figure(figsize=(len(nodes),len(nodes)))\n",
    "G = nx.Graph()\n",
    "G.add_nodes_from(nodes)\n",
    "G.add_edges_from(edges)\n",
    "pos = nx.spring_layout(G)\n",
    "nx.draw(G, pos, node_shape='s',  \n",
    "        node_color=[n[1]['color'] for n in nodes], \n",
    "        node_size=[len(n[0])*400 for n in nodes],  \n",
    "        with_labels=True);\n",
    "nx.draw_networkx_edge_labels(G,pos,\n",
    "                             edge_labels=nx.get_edge_attributes(G,'label'),\n",
    "                             font_color='gray',  font_size=8, rotate=False);"
   ],
   "id": "79b3bf5e-dc16-410e-8c33-74b08fc84f87"
  },
  {
   "cell_type": "markdown",
   "metadata": {},
   "source": [
    "### Log in to resources\n",
    "\n",
    "At this point, we should be able to log in to our resources over SSH! Run the following cell, and observe the output - you will see an SSH command for each of the nodes in your topology."
   ],
   "id": "bb5c3169-c2a9-42ba-882b-472d63ba26f0"
  },
  {
   "cell_type": "code",
   "execution_count": null,
   "metadata": {},
   "outputs": [],
   "source": [
    "import pandas as pd\n",
    "pd.set_option('display.max_colwidth', None)\n",
    "slice_info = [{'Name': n['name'], 'SSH command': \"ssh cc@\" + server_ips[i] } for i, n in enumerate(node_conf)]\n",
    "pd.DataFrame(slice_info).set_index('Name')"
   ],
   "id": "14208fc5-50e3-4657-8d48-41b4236bc03b"
  },
  {
   "cell_type": "markdown",
   "metadata": {},
   "source": [
    "Now, you can open an SSH session on any of the nodes as follows:\n",
    "\n",
    "-   In Jupyter, from the menu bar, use File \\> New \\> Terminal to open a new terminal.\n",
    "-   Copy an SSH command from the output above, and paste it into the terminal.\n",
    "-   You can repeat this process (open several terminals) to start a session on each node. Each terminal session will have a tab in the Jupyter environment, so that you can easily switch between them.\n",
    "\n",
    "Alternatively, you can use your local terminal to log on to each node, if you prefer. (On your local terminal, you may need to also specify your key path as part of the SSH command, using the `-i` argument followed by the path to your private key.)"
   ],
   "id": "da796b72-326a-4b9f-8170-e0197bdfc204"
  },
  {
   "cell_type": "markdown",
   "metadata": {},
   "source": [
    "### Delete resources\n",
    "\n",
    "When you finish your experiment, you should delete your resources! The following cells deletes all the resources in this experiment, freeing them for other experimenters."
   ],
   "id": "cae9c843-49e2-4fc3-9b9f-015e53a5dbf2"
  },
  {
   "cell_type": "code",
   "execution_count": null,
   "metadata": {},
   "outputs": [],
   "source": [
    "# delete the nodes\n",
    "server_ids = [chi.server.get_server_id(n['name'] + \"_\" + username) for n in node_conf]\n",
    "server_ips = [d['addr'] for s in server_ids for d in chi.server.show_server(s).addresses['public_net_' + username] if d['OS-EXT-IPS:type']=='floating']\n",
    "for server_id in server_ids:\n",
    "    chi.server.delete_server(server_id)"
   ],
   "id": "0e69b3d1-9d86-4fd7-894d-800a77754417"
  },
  {
   "cell_type": "code",
   "execution_count": null,
   "metadata": {},
   "outputs": [],
   "source": [
    "# release the floating IP addresses used for SSH\n",
    "for server_ip in server_ips:\n",
    "    ip_details = chi.network.get_floating_ip(server_ip)\n",
    "    chi.neutron().delete_floatingip(ip_details[\"id\"])"
   ],
   "id": "6244e8f4-2944-423c-a131-12ba93d8dcfa"
  },
  {
   "cell_type": "code",
   "execution_count": null,
   "metadata": {},
   "outputs": [],
   "source": [
    "# delete the router used for public Internet access\n",
    "router = chi.network.get_router(\"inet_router_\" + username)\n",
    "public_subnet = chi.network.get_subnet(\"public_subnet_\" + username)\n",
    "public_net = chi.network.get_network(\"public_net_\" + username)\n",
    "chi.network.remove_subnet_from_router(router.get(\"id\"), public_subnet.get(\"id\"))\n",
    "chi.network.delete_router(router.get(\"id\"))"
   ],
   "id": "8cea09a4-a82f-48ca-ac60-af58cc2ecf5c"
  },
  {
   "cell_type": "code",
   "execution_count": null,
   "metadata": {},
   "outputs": [],
   "source": [
    "# delete the public network\n",
    "chi.network.delete_subnet(public_subnet.get('id'))\n",
    "chi.network.delete_network(public_net.get(\"id\"))"
   ],
   "id": "6d758b87-d4a1-4d4e-ae99-c9490e3f4784"
  },
  {
   "cell_type": "code",
   "execution_count": null,
   "metadata": {},
   "outputs": [],
   "source": [
    "# delete the experiment networks\n",
    "subnets = [chi.network.get_subnet(\"exp_subnet_\" + n['name']  + '_' + username) for n in net_conf]\n",
    "nets    = [chi.network.get_network(\"exp_\" + n['name']  + '_' + username) for n in net_conf]\n",
    "for subnet, net in zip(subnets, nets):\n",
    "    chi.network.delete_subnet(subnet.get('id'))\n",
    "    chi.network.delete_network(net.get('id'))"
   ],
   "id": "70327c03-c71b-43ae-9116-434986700138"
  }
 ],
 "nbformat": 4,
 "nbformat_minor": 5,
 "metadata": {}
}
