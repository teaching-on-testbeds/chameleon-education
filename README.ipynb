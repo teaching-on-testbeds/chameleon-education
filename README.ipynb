{
 "cells": [
  {
   "cell_type": "markdown",
   "id": "71daa081-9c44-425a-975a-0c764f1bcd15",
   "metadata": {},
   "source": [
    "# Teaching computer networks on Chameleon\n",
    "\n",
    "This repository collects network topologies + configurations for teaching computer networks on Chameleon."
   ]
  },
  {
   "cell_type": "markdown",
   "id": "f79852ab-3e04-4feb-8d25-c25224a9caa6",
   "metadata": {},
   "source": [
    "A typical sequence for computer networks, following Kurose & Ross 8th edition, might be:\n",
    "\n",
    "* [Hello, Chameleon](https://teaching-on-testbeds.github.io/hello-chameleon/)\n",
    "* [Hello, Linux](https://teaching-on-testbeds.github.io/hello-linux/index-chi) (optional)\n",
    "* [TCP/IP protocol stack](https://teaching-on-testbeds.github.io/blog/protocol-layers) (aligned with Chapter 1 in Kurose & Ross )\n",
    "* [Socket programming](https://teaching-on-testbeds.github.io/blog/sockets-python) in Python (Chapter 2-3 in K&R)\n",
    "* [TCP congestion control](https://teaching-on-testbeds.github.io/blog/tcp-congestion-control) (Chapter 3 in K&R)\n",
    "* [Static routing](https://teaching-on-testbeds.github.io/blog/static-routing) (Chapter 4 in K&R)\n",
    "* [Designing subnets](https://teaching-on-testbeds.github.io/blog/designing-subnets) (Chapter 4 in K&R)\n",
    "* [ARP](https://teaching-on-testbeds.github.io/blog/address-resolution-protocol-arp) (Chapter 6 in K&R)\n",
    "* [Secure networked applications](https://teaching-on-testbeds.github.io/blog/secure-applications) (Chapter 8 in K&R)\n",
    "* [Network layer security](https://teaching-on-testbeds.github.io/blog/network-layer-security) (Chapter 8 in K&R)"
   ]
  },
  {
   "cell_type": "markdown",
   "id": "14761a77-6754-4b28-9cbe-ef831b77bb08",
   "metadata": {},
   "source": [
    "To retrieve these materials into your `work` directory on the Chameleon JupyterHub, you should run:"
   ]
  },
  {
   "cell_type": "code",
   "execution_count": null,
   "id": "13724e87-c1b8-4bf5-80e8-2123b08b3ddb",
   "metadata": {},
   "outputs": [],
   "source": [
    "git clone https://github.com/teaching-on-testbeds/hello-chameleon hello_chameleon\n",
    "git clone -b stack https://github.com/teaching-on-testbeds/chameleon-education tcp_ip_stack\n",
    "git clone https://github.com/teaching-on-testbeds/sockets-python.git sockets_python\n",
    "git clone -b tcp_congestion_control https://github.com/teaching-on-testbeds/chameleon-education tcp_congestion_control\n",
    "git clone -b static_routing https://github.com/teaching-on-testbeds/chameleon-education static_routing\n",
    "git clone -b subnets https://github.com/teaching-on-testbeds/chameleon-education subnets\n",
    "git clone -b arp https://github.com/teaching-on-testbeds/chameleon-education arp\n",
    "git clone -b secure_applications https://github.com/teaching-on-testbeds/chameleon-education secure_applications\n",
    "git clone -b network_security https://github.com/teaching-on-testbeds/chameleon-education network_security"
   ]
  }
 ],
 "metadata": {
  "kernelspec": {
   "display_name": "Bash",
   "language": "bash",
   "name": "bash"
  },
  "language_info": {
   "codemirror_mode": "shell",
   "file_extension": ".sh",
   "mimetype": "text/x-sh",
   "name": "bash"
  }
 },
 "nbformat": 4,
 "nbformat_minor": 5
}
