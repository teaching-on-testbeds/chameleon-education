{
 "cells": [
  {
   "cell_type": "markdown",
   "id": "2ca02f62-f9f3-4e3a-bbf3-8e720bd2696c",
   "metadata": {},
   "source": [
    "# TCP Congestion Control\n",
    "\n",
    "In this notebook you will:\n",
    "\n",
    "* Create resources for this experiment\n",
    "* Configure your resources\n",
    "* Access your resources over SSH\n",
    "* Retrieve files saved on resources\n",
    "* Visualize the data retrieved\n",
    "* Delete your resources, once you are finished"
   ]
  },
  {
   "cell_type": "markdown",
   "id": "ab00548a-42de-4c64-9774-312a43d7df22",
   "metadata": {},
   "source": [
    "## Exercise: Create resources\n",
    "\n",
    "In this exercise, we will reserve resources on KVM@TACC: two hosts (VMs) on two different network segments, connected by a router (also a VM).\n",
    "\n"
   ]
  },
  {
   "cell_type": "code",
   "execution_count": null,
   "id": "1bb0f8c3-a939-4eab-b3b8-dde1353096c5",
   "metadata": {},
   "outputs": [],
   "source": [
    "# enable autoreload magic to pull in updated utils.py \n",
    "%load_ext autoreload\n",
    "%autoreload 2"
   ]
  },
  {
   "cell_type": "code",
   "execution_count": null,
   "id": "1b20117a-63d0-4dd7-9ef5-85efb5f2bc96",
   "metadata": {},
   "outputs": [],
   "source": [
    "import openstack\n",
    "import chi\n",
    "import chi.ssh\n",
    "import os \n",
    "\n",
    "chi.use_site(\"KVM@TACC\")\n",
    "# set the PROJECT_NAME manually if you don't want the default from the Jupyter environment\n",
    "PROJECT_NAME = os.getenv('OS_PROJECT_NAME')\n",
    "chi.set(\"project_name\", PROJECT_NAME)\n",
    "\n",
    "# configure openstacksdk for actions unsupported by python-chi\n",
    "os_conn = chi.clients.connection()"
   ]
  },
  {
   "cell_type": "code",
   "execution_count": null,
   "id": "c4cf5466-4061-4b32-adec-4b09ad274784",
   "metadata": {},
   "outputs": [],
   "source": [
    "# create three networks. One will be used for SSH and API access,\n",
    "# and the other two will be used for experiments. \n",
    "# We need to disable port security on those two experiment networks.\n",
    "\n",
    "import utils\n",
    "\n",
    "uname = os.getenv('USER')\n",
    "public_net = utils.ensure_network(os_conn, network_name=\"public-net-\" + uname)\n",
    "exp_net_1  = utils.ensure_network(os_conn, network_name=\"exp-net-1-\" + uname)\n",
    "exp_net_2  = utils.ensure_network(os_conn, network_name=\"exp-net-2-\" + uname)\n",
    "\n",
    "public_subnet = utils.ensure_subnet(\n",
    "    os_conn,\n",
    "    name=\"public-subnet-\" + uname,\n",
    "    network_id=public_net.get(\"id\"),\n",
    "    ip_version='4',\n",
    "    cidr=\"192.168.10.0/24\",\n",
    "    gateway_ip=\"192.168.10.1\"\n",
    ")\n",
    "\n",
    "exp_subnet_1 = utils.ensure_subnet(\n",
    "    os_conn,\n",
    "    name=\"exp-subnet-1-\" + uname,\n",
    "    network_id=exp_net_1.get(\"id\"),\n",
    "    ip_version='4',\n",
    "    cidr=\"10.10.1.0/24\",\n",
    "    enable_dhcp=True,\n",
    "    gateway_ip=None\n",
    ")\n",
    "\n",
    "exp_subnet_2 = utils.ensure_subnet(\n",
    "    os_conn,\n",
    "    name=\"exp-subnet-2-\" + uname,\n",
    "    network_id=exp_net_2.get(\"id\"),\n",
    "    ip_version='4',\n",
    "    cidr=\"10.10.2.0/24\",\n",
    "    enable_dhcp=True,\n",
    "    gateway_ip=None\n",
    ")"
   ]
  },
  {
   "cell_type": "code",
   "execution_count": null,
   "id": "a7c663c8-df6d-4a02-a335-e6b63c1e933f",
   "metadata": {},
   "outputs": [],
   "source": [
    "netid_1 = chi.network.get_network_id(\"exp-net-1-\" + uname)\n",
    "netid_2 = chi.network.get_network_id(\"exp-net-2-\" + uname)"
   ]
  },
  {
   "cell_type": "code",
   "execution_count": null,
   "id": "2d19bafd-a1b5-4674-9276-6750206a6fb2",
   "metadata": {},
   "outputs": [],
   "source": [
    "%%bash -s \"$PROJECT_NAME\" \"$netid_1\" \"$netid_2\"\n",
    "export OS_PROJECT_NAME=$1\n",
    "export OS_AUTH_URL=https://kvm.tacc.chameleoncloud.org:5000/v3\n",
    "export OS_REGION_NAME=KVM@TACC\n",
    "access_token=$(curl -s -H\"authorization: token $JUPYTERHUB_API_TOKEN\" \"$JUPYTERHUB_API_URL/users/$JUPYTERHUB_USER\" | jq -r .auth_state.access_token)\n",
    "export OS_ACCESS_TOKEN=\"$access_token\"\n",
    "\n",
    "openstack network set --disable-port-security $2\n",
    "openstack network set --disable-port-security $3"
   ]
  },
  {
   "cell_type": "code",
   "execution_count": null,
   "id": "869f1447-ea26-40de-95d3-7f04e9cda975",
   "metadata": {},
   "outputs": [],
   "source": [
    "# Now, create three servers - romeo, juliet, and router\n",
    "\n",
    "image_uuid = os_conn.image.find_image(\"CC-Ubuntu20.04\").id\n",
    "flavor_uuid = os_conn.compute.find_flavor(\"m1.small\").id\n",
    "\n",
    "server_romeo = utils.ensure_server(\n",
    "    os_conn,\n",
    "    name=\"romeo_\" + uname,\n",
    "    image_id=image_uuid,\n",
    "    flavor_id=flavor_uuid,\n",
    "    nics=[\n",
    "        {\"net-id\": public_net.get(\"id\"), \"v4-fixed-ip\":\"192.168.10.10\"},\n",
    "        {\"net-id\": netid_1, \"v4-fixed-ip\":\"10.10.1.100\"},\n",
    "    ]\n",
    ")\n",
    "\n",
    "server_juliet = utils.ensure_server(\n",
    "    os_conn,\n",
    "    name=\"juliet_\" + uname,\n",
    "    image_id=image_uuid,\n",
    "    flavor_id=flavor_uuid,\n",
    "    nics=[\n",
    "        {\"net-id\": public_net.get(\"id\"), \"v4-fixed-ip\":\"192.168.10.20\"},\n",
    "        {\"net-id\": netid_2, \"v4-fixed-ip\":\"10.10.2.100\"},\n",
    "    ]\n",
    ")\n",
    "\n",
    "server_router = utils.ensure_server(\n",
    "    os_conn,\n",
    "    name=\"router_\" + uname,\n",
    "    image_id=image_uuid,\n",
    "    flavor_id=flavor_uuid,\n",
    "    nics=[\n",
    "        {\"net-id\": public_net.get(\"id\"), \"v4-fixed-ip\":\"192.168.10.30\"},\n",
    "        {\"net-id\": netid_1, \"v4-fixed-ip\":\"10.10.1.10\"},\n",
    "        {\"net-id\": netid_2, \"v4-fixed-ip\":\"10.10.2.10\"},\n",
    "    ]\n",
    ")\n"
   ]
  },
  {
   "cell_type": "code",
   "execution_count": null,
   "id": "39a5e442-0b57-40c4-876e-5c6a3a37cf22",
   "metadata": {},
   "outputs": [],
   "source": [
    "romeo_id  = chi.server.get_server('romeo_' + uname).id\n",
    "juliet_id = chi.server.get_server('juliet_' + uname).id\n",
    "router_id = chi.server.get_server('router_' + uname).id"
   ]
  },
  {
   "cell_type": "code",
   "execution_count": null,
   "id": "63dab3e6-470e-4df1-b627-d93a95dbe903",
   "metadata": {},
   "outputs": [],
   "source": [
    "chi.server.wait_for_active(romeo_id)\n",
    "chi.server.wait_for_active(juliet_id)\n",
    "chi.server.wait_for_active(router_id)"
   ]
  },
  {
   "cell_type": "code",
   "execution_count": null,
   "id": "1a85f026-7d78-4cd2-9f01-c4fd6e543d83",
   "metadata": {},
   "outputs": [],
   "source": [
    "# connect them to the Internet on the \"public\" network (e.g. for software installation)\n",
    "router = chi.network.create_router('inet-router-' + uname, gw_network_name='public')\n",
    "chi.network.add_subnet_to_router(router.get(\"id\"), public_subnet.get(\"id\"))"
   ]
  },
  {
   "cell_type": "code",
   "execution_count": null,
   "id": "27492674-becc-484d-9763-fe5cb6bc146e",
   "metadata": {},
   "outputs": [],
   "source": [
    "# prepare SSH access on the three servers\n",
    "fip_romeo = chi.server.associate_floating_ip(romeo_id)\n",
    "fip_juliet = chi.server.associate_floating_ip(juliet_id)\n",
    "fip_router = chi.server.associate_floating_ip(router_id)"
   ]
  },
  {
   "cell_type": "markdown",
   "id": "d90f8296-6ba5-4cd0-9340-71d36cf42978",
   "metadata": {},
   "source": [
    "Note: The following cell assumes that a security group named \"Allow SSH\" already exists in your project, and is configured to allow SSH access on port 22."
   ]
  },
  {
   "cell_type": "code",
   "execution_count": null,
   "id": "c4b090be-10e5-4bdf-bf6f-3f6317957b4d",
   "metadata": {},
   "outputs": [],
   "source": [
    "[port_id_1, port_id_2, port_id_3 ] = [port['id'] for port in chi.network.list_ports() if port['port_security_enabled'] and port['network_id']==public_net.get(\"id\")]\n",
    "security_group_id = os_conn.get_security_group(\"Allow SSH\").id"
   ]
  },
  {
   "cell_type": "code",
   "execution_count": null,
   "id": "839d6afd-b30b-416c-95c6-30feb8617d53",
   "metadata": {},
   "outputs": [],
   "source": [
    "%%bash -s \"$PROJECT_NAME\" \"$security_group_id\" \"$port_id_1\" \"$port_id_2\" \"$port_id_3\" \n",
    "\n",
    "export OS_PROJECT_NAME=$1\n",
    "export OS_AUTH_URL=https://kvm.tacc.chameleoncloud.org:5000/v3\n",
    "export OS_REGION_NAME=KVM@TACC\n",
    "access_token=$(curl -s -H\"authorization: token $JUPYTERHUB_API_TOKEN\"     \"$JUPYTERHUB_API_URL/users/$JUPYTERHUB_USER\"     | jq -r .auth_state.access_token)\n",
    "export OS_ACCESS_TOKEN=\"$access_token\"\n",
    "\n",
    "openstack port set \"$3\" --security-group \"$2\"\n",
    "openstack port set \"$4\" --security-group \"$2\"\n",
    "openstack port set \"$5\" --security-group \"$2\""
   ]
  },
  {
   "cell_type": "markdown",
   "id": "bfa00e4b-55f2-4362-99ff-8304d945e74b",
   "metadata": {},
   "source": [
    "## Exercise: Configure resources\n",
    "\n",
    "Next, we need to configure our resources - assign IP addresses to network interfaces, enable forwarding on the router, and install any necessary software.\n",
    "\n"
   ]
  },
  {
   "cell_type": "code",
   "execution_count": null,
   "id": "5eeaf1f1-9882-4ad2-af28-b5e58ef77ffa",
   "metadata": {},
   "outputs": [],
   "source": [
    "# configure the router to forward traffic\n",
    "remote_router = chi.ssh.Remote(fip_router) \n",
    "remote_router.run(f\"sudo sysctl -w net.ipv4.ip_forward=1\") \n",
    "remote_router.run(f\"sudo ufw disable\") \n",
    "remote_router.run(f\"sudo apt update; sudo apt -y install net-tools\") \n"
   ]
  },
  {
   "cell_type": "code",
   "execution_count": null,
   "id": "0544ea65-93fe-454f-a055-c30ad23c5126",
   "metadata": {},
   "outputs": [],
   "source": [
    "# configure the romeo host\n",
    "remote_romeo = chi.ssh.Remote(fip_romeo) \n",
    "remote_romeo.run(f\"sudo ip route add 10.10.2.0/24 via 10.10.1.10\") \n",
    "remote_romeo.run(f\"echo '10.10.2.100 juliet' | sudo tee -a /etc/hosts > /dev/null\") \n",
    "remote_romeo.run(f\"sudo apt update; sudo apt -y install net-tools\") "
   ]
  },
  {
   "cell_type": "code",
   "execution_count": null,
   "id": "eafa5d3b-d0f5-4eea-93e6-4902a140aefe",
   "metadata": {},
   "outputs": [],
   "source": [
    "# configure the juliet host\n",
    "remote_juliet = chi.ssh.Remote(fip_juliet) \n",
    "remote_juliet.run(f\"sudo ip route add 10.10.1.0/24 via 10.10.2.10\") \n",
    "remote_juliet.run(f\"echo '10.10.1.100 romeo' | sudo tee -a /etc/hosts > /dev/null\") \n",
    "remote_juliet.run(f\"sudo apt update; sudo apt -y install net-tools\") "
   ]
  },
  {
   "cell_type": "markdown",
   "id": "be89a482-4050-4a1a-97d4-3dfe6550282b",
   "metadata": {},
   "source": [
    "Also copy your account keys to all of the resources:"
   ]
  },
  {
   "cell_type": "code",
   "execution_count": null,
   "id": "de020448-5cad-410c-bdae-b9f832cd0576",
   "metadata": {},
   "outputs": [],
   "source": [
    "nova=chi.clients.nova()\n",
    "# iterate over all keypairs in this account\n",
    "for kp in nova.keypairs.list(): \n",
    "    public_key = nova.keypairs.get(kp.name).public_key \n",
    "    remote_router.run(f\"echo {public_key} >> ~/.ssh/authorized_keys\") \n",
    "    remote_romeo.run(f\"echo {public_key} >> ~/.ssh/authorized_keys\") \n",
    "    remote_juliet.run(f\"echo {public_key} >> ~/.ssh/authorized_keys\") "
   ]
  },
  {
   "cell_type": "markdown",
   "id": "a1b888b4-cf60-482c-828e-18fb132fc033",
   "metadata": {},
   "source": [
    "## Exercise: Log in to resources\n",
    "\n",
    "Now, we are finally ready to log in to our resources over SSH! Run the following cells, and observe the output - you will see an SSH command for each of the nodes in your topology.\n",
    "\n"
   ]
  },
  {
   "cell_type": "code",
   "execution_count": null,
   "id": "932b99fe-bbf8-4ff1-ad86-4238de429730",
   "metadata": {},
   "outputs": [],
   "source": [
    "# for romeo:\n",
    "print(f\"ssh cc@{fip_romeo}\")"
   ]
  },
  {
   "cell_type": "code",
   "execution_count": null,
   "id": "b3b19dcd-d4d7-49ce-af7d-8740e5e3924e",
   "metadata": {},
   "outputs": [],
   "source": [
    "# for juliet:\n",
    "print(f\"ssh cc@{fip_juliet}\")"
   ]
  },
  {
   "cell_type": "code",
   "execution_count": null,
   "id": "26af8148-865d-4568-88a4-16583591b9cb",
   "metadata": {},
   "outputs": [],
   "source": [
    "# for router:\n",
    "print(f\"ssh cc@{fip_router}\")"
   ]
  },
  {
   "cell_type": "markdown",
   "id": "ecebec50-06db-476c-b38a-2dae5c52639f",
   "metadata": {},
   "source": [
    "Now, you can open an SSH session on any of the nodes as follows:\n",
    "\n",
    "* In Jupyter, from the menu bar, use File > New > Terminal to open a new terminal.\n",
    "* Copy an SSH command from the output above, and paste it into the terminal. \n",
    "\n",
    "You can repeat this process (open several terminals) to start a session on each host and the router. Each terminal session will have a tab in the Jupyter environment, so that you can easily switch between them.\n",
    "\n",
    "Now you can continue to perform the TCP congestion control experiment on these host sessions.\n",
    "\n"
   ]
  },
  {
   "cell_type": "markdown",
   "id": "03358e8a-2cbf-4218-abc5-a798bdbb3573",
   "metadata": {},
   "source": [
    "## Exercise: Data Visualization"
   ]
  },
  {
   "cell_type": "markdown",
   "id": "a5f4dc8c-0372-4631-bc74-b1043f420c87",
   "metadata": {},
   "source": [
    "To visualize the results of your experiment, you should first retrieve the data file `sender-ss.csv` from host romeo using SCP:"
   ]
  },
  {
   "cell_type": "code",
   "execution_count": null,
   "id": "6675e8fc-66fe-4d5e-a2cb-88d6e798e4b5",
   "metadata": {},
   "outputs": [],
   "source": [
    "!scp -o StrictHostKeyChecking=no -i ~/work/.ssh/id_rsa cc@{fip_romeo}:/home/cc/sender-ss.csv /work/sender-ss.csv"
   ]
  },
  {
   "cell_type": "markdown",
   "id": "e1c393e7-bc1f-4a8f-a3d4-f780387b0e56",
   "metadata": {},
   "source": [
    "then run that SCP command in a terminal (File > New > Terminal) in the Jupyter environment to transfer the file."
   ]
  },
  {
   "cell_type": "markdown",
   "id": "2cc6c167-e1c1-4773-8d5a-0a8d638e369e",
   "metadata": {},
   "source": [
    "Then, run the following cell to visualize the results of the experiment."
   ]
  },
  {
   "cell_type": "code",
   "execution_count": null,
   "id": "db9dbdc5-dcff-4d5a-b5d8-da124f025617",
   "metadata": {},
   "outputs": [],
   "source": [
    "import pandas as pd\n",
    "import matplotlib.pyplot as plt\n",
    "\n",
    "df = pd.read_csv(\"/work/sender-ss.csv\", names=['time', 'sender', 'retx_unacked', 'retx_cum', 'cwnd', 'ssthresh'])\n",
    "\n",
    "# exclude the \"control\" flow\n",
    "s = df.groupby('sender').size()\n",
    "df_filtered = df[df.groupby(\"sender\")['sender'].transform('size') > 100]\n",
    "\n",
    "senders = df_filtered.sender.unique()\n",
    "\n",
    "time_min = df_filtered.time.min()\n",
    "cwnd_max = 1.1*df_filtered[df_filtered.time - time_min >=2].cwnd.max()\n",
    "dfs = [df_filtered[df_filtered.sender==senders[i]] for i in range(3)]\n",
    "\n",
    "fig, axs = plt.subplots(len(senders), sharex=True, figsize=(12,8))\n",
    "fig.suptitle('CWND over time')\n",
    "for i in range(len(senders)):\n",
    "    if i==len(senders)-1:\n",
    "        axs[i].plot(dfs[i]['time']-time_min, dfs[i]['cwnd'], label=\"cwnd\")\n",
    "        axs[i].plot(dfs[i]['time']-time_min, dfs[i]['ssthresh'], label=\"ssthresh\")\n",
    "        axs[i].set_ylim([0,cwnd_max])\n",
    "        axs[i].set_xlabel(\"Time (s)\");\n",
    "    else:\n",
    "        axs[i].plot(dfs[i]['time']-time_min, dfs[i]['cwnd'])\n",
    "        axs[i].plot(dfs[i]['time']-time_min, dfs[i]['ssthresh'])\n",
    "        axs[i].set_ylim([0,cwnd_max])\n",
    "\n",
    "\n",
    "plt.tight_layout();\n",
    "fig.legend(loc='upper right', ncol=2);"
   ]
  },
  {
   "cell_type": "markdown",
   "id": "2964065a-0862-41a9-b24f-0d002f30e024",
   "metadata": {},
   "source": [
    "## Exercise: Transfer .pcap files from a host\n",
    "\n",
    "In the TCP ECN exercise, retrieve the PCAP files from the hosts romeo and juliet using the following commands:\n"
   ]
  },
  {
   "cell_type": "code",
   "execution_count": null,
   "id": "0c339f34-9a72-426d-8a1d-d2c9aad18a60",
   "metadata": {},
   "outputs": [],
   "source": [
    "romeo_pcap = \"/home/ubuntu/%s-tcp-ecn.pcap\" % remote_romeo.run(\"hostname\")\n",
    "!scp -o StrictHostKeyChecking=no -i ~/work/.ssh/id_rsa cc@{fip_romeo}:/home/cc/{romeo_pcap} /work/"
   ]
  },
  {
   "cell_type": "code",
   "execution_count": null,
   "id": "cab6233a-076c-4c84-8db1-96b48a1d91b8",
   "metadata": {},
   "outputs": [],
   "source": [
    "juliet_pcap = \"/home/ubuntu/%s-tcp-ecn.pcap\" % remote_juliet.run(\"hostname\")\n",
    "!scp -o StrictHostKeyChecking=no -i ~/work/.ssh/id_rsa cc@{fip_juliet}:/home/cc/{juliet_pcap} /work/"
   ]
  },
  {
   "cell_type": "markdown",
   "id": "ab662bc2-7463-4efd-8509-50c02c7e91e3",
   "metadata": {},
   "source": [
    "Then in the Jupyter environment, click on the folder icon in the file browser on the left to make sure that you are located in your “Jupyter home” directory.\n",
    "\n",
    "Then, you should see the above .pcap files appear in the Jupyter file browser on the left. You can now download this file from the Jupyter environment to your own laptop to analyze them in Wireshark.\n",
    "\n"
   ]
  },
  {
   "cell_type": "markdown",
   "id": "23247f8b-7767-4d8a-a157-45159ffdcccc",
   "metadata": {},
   "source": [
    "## Delete resources\n",
    "\n",
    "To free your resources, change the condition in the following cell from `False` to `True`, then run the cell."
   ]
  },
  {
   "cell_type": "code",
   "execution_count": null,
   "id": "c80bddb0-62d1-48e2-8b92-c76fdcd9dbfb",
   "metadata": {},
   "outputs": [],
   "source": [
    "if False:\n",
    "    \n",
    "    for server_id in [romeo_id, juliet_id, router_id]:\n",
    "        chi.server.delete_server(server_id)\n",
    "        \n",
    "    for reserved_fip in [fip_romeo, fip_juliet, fip_router]:\n",
    "        ip_details = chi.network.get_floating_ip(reserved_fip)\n",
    "        chi.neutron().delete_floatingip(ip_details[\"id\"])\n",
    "        \n",
    "    chi.network.remove_subnet_from_router(router.get(\"id\"), public_subnet.get(\"id\"))\n",
    "    chi.network.delete_router(router.get(\"id\"))\n",
    "    \n",
    "    chi.network.delete_subnet(public_subnet.get('id'))\n",
    "    chi.network.delete_network(public_net.get(\"id\"))\n",
    "    \n",
    "    chi.network.delete_subnet(exp_subnet_1.get('id'))\n",
    "    chi.network.delete_network(exp_net_1.get(\"id\"))\n",
    "\n",
    "    chi.network.delete_subnet(exp_subnet_2.get('id'))\n",
    "    chi.network.delete_network(exp_net_2.get(\"id\"))"
   ]
  }
 ],
 "metadata": {
  "kernelspec": {
   "display_name": "Python 3",
   "language": "python",
   "name": "python3"
  },
  "language_info": {
   "codemirror_mode": {
    "name": "ipython",
    "version": 3
   },
   "file_extension": ".py",
   "mimetype": "text/x-python",
   "name": "python",
   "nbconvert_exporter": "python",
   "pygments_lexer": "ipython3",
   "version": "3.10.6 (main, Mar 10 2023, 10:55:28) [GCC 11.3.0]"
  },
  "vscode": {
   "interpreter": {
    "hash": "916dbcbb3f70747c44a77c7bcd40155683ae19c65e1c03b4aa3499c5328201f1"
   }
  }
 },
 "nbformat": 4,
 "nbformat_minor": 5
}
